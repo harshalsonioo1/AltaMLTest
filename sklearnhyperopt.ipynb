{
 "cells": [
  {
   "cell_type": "markdown",
   "metadata": {
    "collapsed": true,
    "pycharm": {
     "name": "#%% md\n"
    }
   },
   "source": [
    "# Loading\n",
    "## Libraries\n",
    "### Needed for the project\n",
    "\n",
    "\n",
    "* This is a bullet List\n",
    "\n",
    "1. This is a numerbed list\n",
    "2. Numered list two\n",
    "\n",
    "*These are italicized words, not a bullet list*\n",
    "**These are bold words, not a bullet list**\n",
    "\n",
    "***\n",
    "\n",
    "Here is some important text!\n",
    "\n",
    "***"
   ]
  },
  {
   "cell_type": "code",
   "execution_count": null,
   "outputs": [],
   "source": [
    "\n",
    "import pandas as pd\n",
    "import numpy as np\n",
    "import matplotlib.pyplot as plt\n",
    "from tqdm import tqdm\n",
    "import dython as dy\n",
    "import plotly.express as px\n",
    "from pandas_profiling import ProfileReport\n",
    "from catboost import CatBoostRegressor\n",
    "from sklearn.preprocessing import MultiLabelBinarizer, RobustScaler\n",
    "from sklearn.base import BaseEstimator, TransformerMixin\n",
    "from sklearn.svm import SVR\n",
    "from sklearn.linear_model import LinearRegression\n",
    "from hyperopt import space_eval\n",
    "import pandas as pd\n",
    "from sklearn.pipeline import FeatureUnion, Pipeline\n",
    "from sklearn.impute import SimpleImputer\n",
    "from sklearn.metrics import r2_score, mean_absolute_error\n",
    "from sklearn.dummy import DummyRegressor\n",
    "from sklearn.ensemble import RandomForestRegressor\n",
    "from sklearn.model_selection import RandomizedSearchCV, GridSearchCV, KFold, train_test_split\n",
    "from xgboost import XGBRegressor\n",
    "from lightgbm import LGBMRegressor\n",
    "import plotly.figure_factory as ff\n",
    "from sklearn.model_selection import StratifiedShuffleSplit\n",
    "from sklearn.model_selection import cross_val_score\n",
    "from hyperopt import Trials, STATUS_OK, tpe, hp, fmin\n",
    "import seaborn as sns\n",
    "import warnings\n",
    "warnings.filterwarnings('ignore')"
   ],
   "metadata": {
    "collapsed": false,
    "pycharm": {
     "name": "#%%\n"
    }
   }
  },
  {
   "cell_type": "code",
   "execution_count": 9,
   "outputs": [],
   "source": [
    "df = pd.read_csv('./data/dataset.csv')\n",
    "# Setting id as index\n",
    "df.set_index('id', inplace=True)\n",
    "\n",
    "split = StratifiedShuffleSplit(n_splits=1, test_size=0.2, random_state=42)\n",
    "for train_index, test_index in split.split(df.values, df.fertilizer_usage.values):\n",
    "    train_set = df.iloc[train_index]\n",
    "    test_set = df.iloc[test_index]\n",
    "\n",
    "X_train = train_set.drop(columns='yield')\n",
    "y_train = train_set['yield']\n",
    "X_test = test_set.drop(columns='yield')\n",
    "y_test = test_set['yield']"
   ],
   "metadata": {
    "collapsed": false,
    "pycharm": {
     "name": "#%%\n"
    }
   }
  },
  {
   "cell_type": "code",
   "execution_count": 10,
   "outputs": [],
   "source": [
    "# Custom Transformer that extracts columns passed as argument to its constructor\n",
    "class FeatureSelector( BaseEstimator, TransformerMixin ):\n",
    "    #Class Constructor\n",
    "    def __init__( self, feature_names):\n",
    "        self.feature_names = feature_names\n",
    "\n",
    "    #Return self nothing else to do here\n",
    "    def fit( self, X, y = None ):\n",
    "        return self\n",
    "\n",
    "    #Method that describes what we need this transformer to do\n",
    "    def transform( self, X, y = None ):\n",
    "        return X[self.feature_names]\n",
    "\n",
    "# Will handle water, uv, area, pesticides- fill missing values and scale\n",
    "\n",
    "class NumericalTransformer(BaseEstimator, TransformerMixin):\n",
    "    #Class Constructor\n",
    "    def __init__( self):\n",
    "        pass\n",
    "\n",
    "    #Return self, nothing else to do here\n",
    "    def fit( self, X, y = None ):\n",
    "        return self\n",
    "\n",
    "    #Custom transform method we wrote that creates aformentioned features and drops redundant ones\n",
    "    def transform(self, X, y = None):\n",
    "\n",
    "        for col in X.columns:\n",
    "            # Adjusting outliers with their percentile values\n",
    "            low = X[col].quantile(0.01)\n",
    "            high = X[col].quantile(0.99)\n",
    "\n",
    "            X[col] = np.where(X[col] < low, low,X[col])\n",
    "            X[col] = np.where(X[col] > high, high,X[col])\n",
    "\n",
    "            # # Filling the Missing Values\n",
    "            # X[col] = X.groupby('region')[col].transform(lambda x: x.fillna(x.mean()))\n",
    "        self.num_columns = X.columns\n",
    "        #returns a numpy array\n",
    "        return X.values\n",
    "\n",
    "\n",
    "# Now categorical variables\n",
    "\n",
    "class CategoricalTransformer( BaseEstimator, TransformerMixin ):\n",
    "    #Class constructor method that takes in a list of values as its argument\n",
    "    def __init__(self):\n",
    "        pass\n",
    "\n",
    "    #Return self nothing else to do here\n",
    "    def fit( self, X, y = None  ):\n",
    "        return self\n",
    "\n",
    "    #Transformer method we wrote for this transformer\n",
    "    def transform(self, X , y = None ):\n",
    "        #Depending on constructor argument break dates column into specified units\n",
    "        #using the helper functions written above\n",
    "        X = pd.get_dummies(X, columns=['region'], dtype=np.int64)\n",
    "\n",
    "        # Splitting the entries so that it can be ingested to binarizer\n",
    "        X['categories'] = X['categories'].transform(lambda x: x.split(','))\n",
    "\n",
    "        mlb = MultiLabelBinarizer()\n",
    "        cats = pd.DataFrame(mlb.fit_transform(X['categories']),columns=mlb.classes_, index=X.index)\n",
    "\n",
    "        # Renaming the column value\n",
    "        cats.columns = 'pesticide_' + cats.columns.values\n",
    "        X = pd.concat([X.drop(columns='categories'), cats], axis=1)\n",
    "        self.cat_columns = X.columns\n",
    "        #returns numpy array\n",
    "        return X.values\n",
    "\n",
    "\n",
    "# Numerical features to pass down the numerical pipeline\n",
    "numerical_features = ['water', 'uv', 'area', 'pesticides']\n",
    "\n",
    "# Categorical features to pass donw the categorical pipeline\n",
    "categorical_features = ['fertilizer_usage', 'region', 'categories']\n",
    "\n",
    "#Defining the steps in the numerical pipeline\n",
    "numerical_pipeline = Pipeline( steps = [ ( 'num_selector', FeatureSelector(numerical_features) ),\n",
    "\n",
    "                                  ( 'num_transformer', NumericalTransformer() ),\n",
    "                                    ('imputer', SimpleImputer(strategy = 'median') ),\n",
    "\n",
    "                                  ( 'std_scaler', RobustScaler() ) ] )\n",
    "\n",
    "\n",
    "#Defining the steps in the categorical pipeline\n",
    "categorical_pipeline = Pipeline( steps = [ ( 'cat_selector', FeatureSelector(categorical_features) ),\n",
    "\n",
    "                                  ( 'cat_transformer', CategoricalTransformer() )] )\n",
    "\n",
    "\n",
    "#Combining numerical and categorical pipeline into one full big pipeline horizontally\n",
    "#using FeatureUnion\n",
    "processor_pipeline = FeatureUnion( transformer_list = [ ( 'categorical_pipeline', categorical_pipeline ),\n",
    "\n",
    "                                                  ( 'numerical_pipeline', numerical_pipeline ) ] )"
   ],
   "metadata": {
    "collapsed": false,
    "pycharm": {
     "name": "#%%\n"
    }
   }
  },
  {
   "cell_type": "markdown",
   "source": [
    "Now, Hypereopt tuning"
   ],
   "metadata": {
    "collapsed": false
   }
  },
  {
   "cell_type": "code",
   "execution_count": 11,
   "outputs": [],
   "source": [
    "def objective_demo(args):\n",
    "    pipe = Pipeline(steps=[\n",
    "        ('preprocessor', processor_pipeline),\n",
    "        ('model', args['model'])\n",
    "    ])\n",
    "    pipe.set_params(**args['params'])\n",
    "    shuffle = KFold(n_splits=10, shuffle=True)\n",
    "    try:\n",
    "        score = cross_val_score(pipe, X_train, y_train, cv=shuffle, scoring='neg_mean_absolute_error', n_jobs=1)\n",
    "        return -score.mean()\n",
    "    except:\n",
    "        pass\n",
    "    return 0"
   ],
   "metadata": {
    "collapsed": false,
    "pycharm": {
     "name": "#%%\n"
    }
   }
  },
  {
   "cell_type": "code",
   "execution_count": 12,
   "outputs": [
    {
     "name": "stdout",
     "output_type": "stream",
     "text": [
      "100%|██████████| 100/100 [00:25<00:00,  3.87trial/s, best loss: 7.563143097848892]\n",
      "Best Model: XGBRegressor(base_score=0.5, booster='gbtree', colsample_bylevel=1,\n",
      "             colsample_bynode=1, colsample_bytree=0.49, gamma=0.09, gpu_id=-1,\n",
      "             importance_type='gain', interaction_constraints='',\n",
      "             learning_rate=0.39, max_delta_step=0, max_depth=15,\n",
      "             min_child_weight=4.0, missing=nan, monotone_constraints='()',\n",
      "             n_estimators=105, n_jobs=6, num_parallel_tree=1, random_state=0,\n",
      "             reg_alpha=0.43167217629129184, reg_lambda=0.3880524020617887,\n",
      "             scale_pos_weight=1, subsample=0.74, tree_method='exact',\n",
      "             validate_parameters=1, verbosity=None) \n",
      " \n",
      "\n",
      "Mean Absolute Error by the Model:  9.380229884338378\n"
     ]
    },
    {
     "data": {
      "text/plain": "<AxesSubplot:title={'center':'Feature Importance'}>"
     },
     "execution_count": 12,
     "metadata": {},
     "output_type": "execute_result"
    },
    {
     "data": {
      "text/plain": "<Figure size 720x720 with 1 Axes>",
      "image/png": "[encoded data removed]"
     },
     "metadata": {
      "needs_background": "light"
     },
     "output_type": "display_data"
    }
   ],
   "source": [
    "space_demo = hp.choice('regressors', [{\n",
    "    'model': DummyRegressor(),\n",
    "    'params':{}\n",
    "    },\n",
    "    {\n",
    "    'model':SVR(),\n",
    "    'params':{\n",
    "        'model__C': hp.choice('C', np.arange(0.005,1.0,0.01)),\n",
    "        'model__kernel': hp.choice('kernel',['linear', 'rbf']),\n",
    "        'model__degree':hp.choice('degree',[2,3,4]),\n",
    "        'model__gamma': hp.uniform('gamma',0.001,10000)\n",
    "    }\n",
    "    },\n",
    "    {\n",
    "    'model': XGBRegressor(),\n",
    "    'params': {\n",
    "        'model__max_depth' : hp.choice('xgb.max_depth', range(5, 30, 1)),\n",
    "        'model__learning_rate' : hp.quniform('xgb.learning_rate', 0.01, 0.5, 0.01),\n",
    "        'model__n_estimators' : hp.choice('xgb.n_estimators', range(20, 205, 5)),\n",
    "        'model__gamma' : hp.quniform('xgb.gamma', 0, 0.50, 0.01),\n",
    "        'model__min_child_weight' : hp.quniform('xgb.min_child_weight', 1, 10, 1),\n",
    "        'model__subsample' : hp.quniform('xgb.subsample', 0.1, 1, 0.01),\n",
    "        'model__colsample_bytree' : hp.quniform('xgb.colsample_bytree', 0.1, 1.0, 0.01),\n",
    "        'model__reg_lambda' : hp.uniform ('xgb.reg_lambda', 0,1),\n",
    "        'model__reg_alpha' : hp.uniform ('xgb.reg_alpha', 0,1)\n",
    "    },\n",
    "    },\n",
    "    {\n",
    "    'model': LGBMRegressor(),\n",
    "    'params': {\n",
    "        'model__class_weight': hp.choice('lgbm.class_weight', [None, 'balanced']),\n",
    "        'model__boosting_type': hp.choice('lgbm.boosting_type',\n",
    "                                        [{'boosting_type': 'gbdt',\n",
    "                                         },\n",
    "                                        {'boosting_type': 'dart',\n",
    "                                         },\n",
    "                                        {'boosting_type': 'goss'}]),\n",
    "        'model__num_leaves': hp.quniform('lgbm.num_leaves', 30, 150, 1),\n",
    "        'model__learning_rate': hp.loguniform('lgbm.learning_rate', np.log(0.01), np.log(0.2)),\n",
    "        'model__subsample_for_bin': hp.quniform('lgbm.subsample_for_bin', 20000, 300000, 20000),\n",
    "        'model__feature_fraction': hp.uniform('lgbm.feature_fraction', 0.5, 1),\n",
    "        'model__bagging_fraction': hp.uniform('lgbm.bagging_fraction', 0.5, 1), #alias \"subsample\"\n",
    "        'model__min_data_in_leaf': hp.qloguniform('lgbm.min_data_in_leaf', 0, 6, 1),\n",
    "        'model__lambda_l1': hp.choice('lambda_l1', [0, hp.loguniform('lambda_l1_positive', -16, 2)]),\n",
    "        'model__lambda_l2': hp.choice('lambda_l2', [0, hp.loguniform('lambda_l2_positive', -16, 2)]),\n",
    "        'model__verbose': -1,\n",
    "        'model__subsample': None, #overridden by bagging_fraction\n",
    "        'model__reg_alpha': None, #overridden by lambda_l1\n",
    "        'model__reg_lambda': None, #overridden by lambda_l2\n",
    "        'model__min_sum_hessian_in_leaf': None, #overrides min_child_weight\n",
    "        'model__min_child_samples': None, #overridden by min_data_in_leaf\n",
    "        'model__colsample_bytree': None, #overridden by feature_fraction\n",
    "        'model__min_child_weight': hp.loguniform('lgbm.min_child_weight', -16, 5), #also aliases to min_sum_hessian\n",
    "    }\n",
    "    },\n",
    "    {\n",
    "    'model': CatBoostRegressor(task_type='GPU'),\n",
    "    'params': {\n",
    "        'model__max_depth' : hp.choice('cat.max_depth', range(5, 30, 1)),\n",
    "        'model__learning_rate' : hp.quniform('cat.learning_rate', 0.01, 0.5, 0.01),\n",
    "        'model__n_estimators' : hp.choice('cat.n_estimators', range(20, 205, 5)),\n",
    "        'model__subsample' : hp.quniform('cat.subsample', 0.1, 1, 0.01),\n",
    "        'model__reg_lambda' : hp.uniform ('cat.reg_lambda', 0,1),\n",
    "        'model__num_leaves': hp.quniform('cat.num_leaves', 31, 60, 1)\n",
    "    }\n",
    "    }\n",
    "])\n",
    "\n",
    "best_regressor = fmin(objective_demo,space_demo,\n",
    "                        algo=tpe.suggest,max_evals=100)\n",
    "\n",
    "best_params = space_eval(space_demo, best_regressor)\n",
    "\n",
    "final_pipe = Pipeline(steps=[\n",
    "    ('processor', processor_pipeline),\n",
    "    ('model', best_params['model'])\n",
    "])\n",
    "final_pipe.fit(X_train, y_train)\n",
    "y_pred=final_pipe.predict(X_test)\n",
    "print(f'Best Model: {best_params[\"model\"]} \\n \\n')\n",
    "print('Mean Absolute Error by the Model: ', mean_absolute_error(y_test, y_pred))\n",
    "\n",
    "\n",
    "columns_processed= list(final_pipe.named_steps['processor'].transformer_list[0][1][1].cat_columns) + \\\n",
    "list(final_pipe.named_steps['processor'].transformer_list[1][1][1].num_columns)\n",
    "\n",
    "dt = pd.DataFrame(final_pipe.named_steps['model'].feature_importances_).transpose()\n",
    "dt.columns = columns_processed\n",
    "dt.transpose().plot(kind='barh', figsize=(10,10), title='Feature Importance', legend=False, colormap='Spectral')"
   ],
   "metadata": {
    "collapsed": false,
    "pycharm": {
     "name": "#%%\n"
    }
   }
  },
  {
   "cell_type": "code",
   "execution_count": 12,
   "outputs": [],
   "source": [],
   "metadata": {
    "collapsed": false,
    "pycharm": {
     "name": "#%%\n"
    }
   }
  }
 ],
 "metadata": {
  "kernelspec": {
   "display_name": "Python 3",
   "language": "python",
   "name": "python3"
  },
  "language_info": {
   "codemirror_mode": {
    "name": "ipython",
    "version": 2
   },
   "file_extension": ".py",
   "mimetype": "text/x-python",
   "name": "python",
   "nbconvert_exporter": "python",
   "pygments_lexer": "ipython2",
   "version": "2.7.6"
  }
 },
 "nbformat": 4,
 "nbformat_minor": 0
}