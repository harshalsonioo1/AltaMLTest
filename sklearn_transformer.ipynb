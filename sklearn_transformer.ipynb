{
 "cells": [
  {
   "cell_type": "code",
   "execution_count": 144,
   "metadata": {
    "collapsed": true
   },
   "outputs": [],
   "source": [
    "import pandas as pd\n",
    "import numpy as np\n",
    "import matplotlib.pyplot as plt\n",
    "from tqdm import tqdm\n",
    "import dython as dy\n",
    "import plotly.express as px\n",
    "from pandas_profiling import ProfileReport\n",
    "from sklearn.preprocessing import MultiLabelBinarizer, RobustScaler\n",
    "from sklearn.base import BaseEstimator, TransformerMixin\n",
    "import pandas as pd\n",
    "from sklearn.pipeline import FeatureUnion, Pipeline\n",
    "from sklearn.impute import SimpleImputer\n",
    "from sklearn.metrics import r2_score\n",
    "from sklearn.dummy import DummyRegressor\n",
    "from sklearn.ensemble import RandomForestRegressor\n",
    "from sklearn.model_selection import RandomizedSearchCV, GridSearchCV, KFold, train_test_split\n",
    "from xgboost import XGBRegressor\n",
    "import plotly.figure_factory as ff\n",
    "from sklearn.model_selection import StratifiedShuffleSplit\n",
    "import seaborn as sns"
   ]
  },
  {
   "cell_type": "markdown",
   "source": [
    "# Loading the dataset"
   ],
   "metadata": {
    "collapsed": false
   }
  },
  {
   "cell_type": "code",
   "execution_count": 62,
   "outputs": [
    {
     "name": "stdout",
     "output_type": "stream",
     "text": [
      "(1000, 9)\n"
     ]
    },
    {
     "data": {
      "text/plain": "    id  water      uv   area  fertilizer_usage   yield  pesticides  region  \\\n0  169  5.615  65.281  3.230                 0   7.977       8.969       0   \n1  476  7.044  73.319  9.081                 0  23.009       7.197       0   \n2  152  5.607  60.038  2.864                 2  23.019       7.424       0   \n3  293  9.346  64.719  2.797                 2  28.066       1.256       0   \n4   10  7.969     NaN  5.407                 1  29.140       0.274       0   \n\n  categories  \n0      b,a,c  \n1      c,a,d  \n2        d,a  \n3          d  \n4        c,d  ",
      "text/html": "<div>\n<style scoped>\n    .dataframe tbody tr th:only-of-type {\n        vertical-align: middle;\n    }\n\n    .dataframe tbody tr th {\n        vertical-align: top;\n    }\n\n    .dataframe thead th {\n        text-align: right;\n    }\n</style>\n<table border=\"1\" class=\"dataframe\">\n  <thead>\n    <tr style=\"text-align: right;\">\n      <th></th>\n      <th>id</th>\n      <th>water</th>\n      <th>uv</th>\n      <th>area</th>\n      <th>fertilizer_usage</th>\n      <th>yield</th>\n      <th>pesticides</th>\n      <th>region</th>\n      <th>categories</th>\n    </tr>\n  </thead>\n  <tbody>\n    <tr>\n      <th>0</th>\n      <td>169</td>\n      <td>5.615</td>\n      <td>65.281</td>\n      <td>3.230</td>\n      <td>0</td>\n      <td>7.977</td>\n      <td>8.969</td>\n      <td>0</td>\n      <td>b,a,c</td>\n    </tr>\n    <tr>\n      <th>1</th>\n      <td>476</td>\n      <td>7.044</td>\n      <td>73.319</td>\n      <td>9.081</td>\n      <td>0</td>\n      <td>23.009</td>\n      <td>7.197</td>\n      <td>0</td>\n      <td>c,a,d</td>\n    </tr>\n    <tr>\n      <th>2</th>\n      <td>152</td>\n      <td>5.607</td>\n      <td>60.038</td>\n      <td>2.864</td>\n      <td>2</td>\n      <td>23.019</td>\n      <td>7.424</td>\n      <td>0</td>\n      <td>d,a</td>\n    </tr>\n    <tr>\n      <th>3</th>\n      <td>293</td>\n      <td>9.346</td>\n      <td>64.719</td>\n      <td>2.797</td>\n      <td>2</td>\n      <td>28.066</td>\n      <td>1.256</td>\n      <td>0</td>\n      <td>d</td>\n    </tr>\n    <tr>\n      <th>4</th>\n      <td>10</td>\n      <td>7.969</td>\n      <td>NaN</td>\n      <td>5.407</td>\n      <td>1</td>\n      <td>29.140</td>\n      <td>0.274</td>\n      <td>0</td>\n      <td>c,d</td>\n    </tr>\n  </tbody>\n</table>\n</div>"
     },
     "execution_count": 62,
     "metadata": {},
     "output_type": "execute_result"
    }
   ],
   "source": [
    "df = pd.read_csv('./data/dataset.csv')\n",
    "print(df.shape)\n",
    "df.head(5)"
   ],
   "metadata": {
    "collapsed": false,
    "pycharm": {
     "name": "#%%\n"
    }
   }
  },
  {
   "cell_type": "code",
   "execution_count": 63,
   "outputs": [],
   "source": [
    "# Setting id as index\n",
    "df.set_index('id', inplace=True)"
   ],
   "metadata": {
    "collapsed": false,
    "pycharm": {
     "name": "#%%\n"
    }
   }
  },
  {
   "cell_type": "code",
   "execution_count": 64,
   "outputs": [
    {
     "name": "stdout",
     "output_type": "stream",
     "text": [
      "water                4.17400\n",
      "uv                  14.05200\n",
      "area                 3.60325\n",
      "fertilizer_usage     2.00000\n",
      "yield               32.94750\n",
      "pesticides           3.11150\n",
      "region               3.00000\n",
      "dtype: float64\n"
     ]
    }
   ],
   "source": [
    "Q1 = df.quantile(0.25)\n",
    "Q3 = df.quantile(0.75)\n",
    "IQR = Q3 - Q1\n",
    "print(IQR)"
   ],
   "metadata": {
    "collapsed": false,
    "pycharm": {
     "name": "#%%\n"
    }
   }
  },
  {
   "cell_type": "code",
   "execution_count": 65,
   "outputs": [
    {
     "data": {
      "text/plain": "<Figure size 864x432 with 1 Axes>",
      "image/png": "[encoded data removed]"
     },
     "metadata": {
      "needs_background": "light"
     },
     "output_type": "display_data"
    }
   ],
   "source": [
    "fig, ax = plt.subplots(figsize=(12,6))\n",
    "ax.scatter(df['water'], df['yield'])\n",
    "ax.set_xlabel('Water')\n",
    "ax.set_ylabel('Yield')\n",
    "plt.show()"
   ],
   "metadata": {
    "collapsed": false,
    "pycharm": {
     "name": "#%%\n"
    }
   }
  },
  {
   "cell_type": "code",
   "execution_count": 66,
   "outputs": [],
   "source": [
    "# cols_for_outlier_detection = ['water', 'uv', 'area', 'pesticides']\n",
    "# # Treatment of outliers\n",
    "#\n",
    "# def treat_outliers(col):\n",
    "#\n",
    "#     low = df[col].quantile(0.01)\n",
    "#     high = df[col].quantile(0.99)\n",
    "#\n",
    "#     df[col] = np.where(df[col] < low, low,df[col])\n",
    "#     df[col] = np.where(df[col] > high, high,df[col])\n",
    "#     print(f'Skewness after removing outliers from col {col} is {df[col].skew()}')\n",
    "#\n",
    "# for col in cols_for_outlier_detection:\n",
    "#     treat_outliers(col)\n",
    "#\n",
    "#\n",
    "# for col in cols_for_outlier_detection:\n",
    "#     df[col] = df.groupby('region')[col].transform(lambda x: x.fillna(x.mean()))"
   ],
   "metadata": {
    "collapsed": false,
    "pycharm": {
     "name": "#%%\n"
    }
   }
  },
  {
   "cell_type": "code",
   "execution_count": 67,
   "outputs": [],
   "source": [
    "# df.isna().sum()"
   ],
   "metadata": {
    "collapsed": false,
    "pycharm": {
     "name": "#%%\n"
    }
   }
  },
  {
   "cell_type": "code",
   "execution_count": 68,
   "outputs": [],
   "source": [
    "# scalar = RobustScaler()\n",
    "# scalar.fit_transform(df[cols_for_outlier_detection])"
   ],
   "metadata": {
    "collapsed": false,
    "pycharm": {
     "name": "#%%\n"
    }
   }
  },
  {
   "cell_type": "code",
   "execution_count": 99,
   "outputs": [],
   "source": [
    "# Now categorical variables\n",
    "\n",
    "class CategoricalTransformer( BaseEstimator, TransformerMixin ):\n",
    "    #Class constructor method that takes in a list of values as its argument\n",
    "    def __init__(self):\n",
    "        print('INIT of categorical transformer')\n",
    "\n",
    "    #Return self nothing else to do here\n",
    "    def fit( self, X, y = None  ):\n",
    "        return self\n",
    "\n",
    "    #Transformer method we wrote for this transformer\n",
    "    def transform(self, X , y = None ):\n",
    "        #Depending on constructor argument break dates column into specified units\n",
    "        #using the helper functions written above\n",
    "        X = pd.get_dummies(X, columns=['region'], dtype=np.int64)\n",
    "\n",
    "        # Splitting the entries so that it can be ingested to binarizer\n",
    "        X['categories'] = X['categories'].transform(lambda x: x.split(','))\n",
    "\n",
    "        mlb = MultiLabelBinarizer()\n",
    "        cats = pd.DataFrame(mlb.fit_transform(X['categories']),columns=mlb.classes_, index=X.index)\n",
    "\n",
    "        # Renaming the column value\n",
    "        cats.columns = 'pesticide_' + cats.columns.values\n",
    "        X = pd.concat([X.drop(columns='categories'), cats], axis=1)\n",
    "\n",
    "        print(f'>>>> After Categorical transform: feature set: {X.head(2)}')\n",
    "        #returns numpy array\n",
    "        return X.values"
   ],
   "metadata": {
    "collapsed": false,
    "pycharm": {
     "name": "#%%\n"
    }
   }
  },
  {
   "cell_type": "code",
   "execution_count": 92,
   "outputs": [],
   "source": [
    "# Custom Transformer that extracts columns passed as argument to its constructor\n",
    "class FeatureSelector( BaseEstimator, TransformerMixin ):\n",
    "    #Class Constructor\n",
    "    def __init__( self, feature_names):\n",
    "        print('>>>>>>> INIT of feature selector')\n",
    "        self.feature_names = feature_names\n",
    "\n",
    "    #Return self nothing else to do here\n",
    "    def fit( self, X, y = None ):\n",
    "        return self\n",
    "\n",
    "    #Method that describes what we need this transformer to do\n",
    "    def transform( self, X, y = None ):\n",
    "        print('>>>>>> Selecting features')\n",
    "        return X[self.feature_names]"
   ],
   "metadata": {
    "collapsed": false,
    "pycharm": {
     "name": "#%%\n"
    }
   }
  },
  {
   "cell_type": "code",
   "execution_count": 90,
   "outputs": [],
   "source": [
    "# Will handle water, uv, area, pesticides- fill missing values and scale\n",
    "\n",
    "class NumericalTransformer(BaseEstimator, TransformerMixin):\n",
    "    #Class Constructor\n",
    "    def __init__( self):\n",
    "        print('>>>>>INIT of NumericalTransformer')\n",
    "\n",
    "    #Return self, nothing else to do here\n",
    "    def fit( self, X, y = None ):\n",
    "        return self\n",
    "\n",
    "    #Custom transform method we wrote that creates aformentioned features and drops redundant ones\n",
    "    def transform(self, X, y = None):\n",
    "\n",
    "        for col in X.columns:\n",
    "            # Adjusting outliers with their percentile values\n",
    "            low = X[col].quantile(0.01)\n",
    "            high = X[col].quantile(0.99)\n",
    "\n",
    "            X[col] = np.where(X[col] < low, low,X[col])\n",
    "            X[col] = np.where(X[col] > high, high,X[col])\n",
    "\n",
    "            # # Filling the Missing Values\n",
    "            # X[col] = X.groupby('region')[col].transform(lambda x: x.fillna(x.mean()))\n",
    "        print(f'>>>> After numerical transform: feature set: {X.head(2)}')\n",
    "        #returns a numpy array\n",
    "        return X.values"
   ],
   "metadata": {
    "collapsed": false,
    "pycharm": {
     "name": "#%%\n"
    }
   }
  },
  {
   "cell_type": "code",
   "execution_count": 72,
   "outputs": [
    {
     "data": {
      "text/plain": "     water      uv   area  fertilizer_usage   yield  pesticides  region  \\\nid                                                                        \n169  5.615  65.281  3.230                 0   7.977       8.969       0   \n476  7.044  73.319  9.081                 0  23.009       7.197       0   \n152  5.607  60.038  2.864                 2  23.019       7.424       0   \n293  9.346  64.719  2.797                 2  28.066       1.256       0   \n10   7.969     NaN  5.407                 1  29.140       0.274       0   \n\n    categories  \nid              \n169      b,a,c  \n476      c,a,d  \n152        d,a  \n293          d  \n10         c,d  ",
      "text/html": "<div>\n<style scoped>\n    .dataframe tbody tr th:only-of-type {\n        vertical-align: middle;\n    }\n\n    .dataframe tbody tr th {\n        vertical-align: top;\n    }\n\n    .dataframe thead th {\n        text-align: right;\n    }\n</style>\n<table border=\"1\" class=\"dataframe\">\n  <thead>\n    <tr style=\"text-align: right;\">\n      <th></th>\n      <th>water</th>\n      <th>uv</th>\n      <th>area</th>\n      <th>fertilizer_usage</th>\n      <th>yield</th>\n      <th>pesticides</th>\n      <th>region</th>\n      <th>categories</th>\n    </tr>\n    <tr>\n      <th>id</th>\n      <th></th>\n      <th></th>\n      <th></th>\n      <th></th>\n      <th></th>\n      <th></th>\n      <th></th>\n      <th></th>\n    </tr>\n  </thead>\n  <tbody>\n    <tr>\n      <th>169</th>\n      <td>5.615</td>\n      <td>65.281</td>\n      <td>3.230</td>\n      <td>0</td>\n      <td>7.977</td>\n      <td>8.969</td>\n      <td>0</td>\n      <td>b,a,c</td>\n    </tr>\n    <tr>\n      <th>476</th>\n      <td>7.044</td>\n      <td>73.319</td>\n      <td>9.081</td>\n      <td>0</td>\n      <td>23.009</td>\n      <td>7.197</td>\n      <td>0</td>\n      <td>c,a,d</td>\n    </tr>\n    <tr>\n      <th>152</th>\n      <td>5.607</td>\n      <td>60.038</td>\n      <td>2.864</td>\n      <td>2</td>\n      <td>23.019</td>\n      <td>7.424</td>\n      <td>0</td>\n      <td>d,a</td>\n    </tr>\n    <tr>\n      <th>293</th>\n      <td>9.346</td>\n      <td>64.719</td>\n      <td>2.797</td>\n      <td>2</td>\n      <td>28.066</td>\n      <td>1.256</td>\n      <td>0</td>\n      <td>d</td>\n    </tr>\n    <tr>\n      <th>10</th>\n      <td>7.969</td>\n      <td>NaN</td>\n      <td>5.407</td>\n      <td>1</td>\n      <td>29.140</td>\n      <td>0.274</td>\n      <td>0</td>\n      <td>c,d</td>\n    </tr>\n  </tbody>\n</table>\n</div>"
     },
     "execution_count": 72,
     "metadata": {},
     "output_type": "execute_result"
    }
   ],
   "source": [
    "df.head()"
   ],
   "metadata": {
    "collapsed": false,
    "pycharm": {
     "name": "#%%\n"
    }
   }
  },
  {
   "cell_type": "code",
   "execution_count": 93,
   "outputs": [
    {
     "name": "stdout",
     "output_type": "stream",
     "text": [
      ">>>>>>> INIT of feature selector\n",
      ">>>>>INIT of NumericalTransformer\n",
      ">>>>>>> INIT of feature selector\n",
      ">>>>INIT of categorical transformer\n"
     ]
    }
   ],
   "source": [
    "# Numerical features to pass down the numerical pipeline\n",
    "numerical_features = ['water', 'uv', 'area', 'pesticides']\n",
    "\n",
    "# Categorical features to pass donw the categorical pipeline\n",
    "categorical_features = ['fertilizer_usage', 'region', 'categories']\n",
    "\n",
    "#Defining the steps in the numerical pipeline\n",
    "numerical_pipeline = Pipeline( steps = [ ( 'num_selector', FeatureSelector(numerical_features) ),\n",
    "\n",
    "                                  ( 'num_transformer', NumericalTransformer() ),\n",
    "                                    ('imputer', SimpleImputer(strategy = 'median') ),\n",
    "\n",
    "                                  ( 'std_scaler', RobustScaler() ) ] )\n",
    "\n",
    "\n",
    "#Defining the steps in the categorical pipeline\n",
    "categorical_pipeline = Pipeline( steps = [ ( 'cat_selector', FeatureSelector(categorical_features) ),\n",
    "\n",
    "                                  ( 'cat_transformer', CategoricalTransformer() )] )\n",
    "\n",
    "\n",
    "#Combining numerical and categorical pipeline into one full big pipeline horizontally\n",
    "#using FeatureUnion\n",
    "full_pipeline = FeatureUnion( transformer_list = [ ( 'categorical_pipeline', categorical_pipeline ),\n",
    "\n",
    "                                                  ( 'numerical_pipeline', numerical_pipeline ) ] )\n"
   ],
   "metadata": {
    "collapsed": false,
    "pycharm": {
     "name": "#%%\n"
    }
   }
  },
  {
   "cell_type": "code",
   "execution_count": 156,
   "outputs": [],
   "source": [
    "from sklearn.linear_model import LinearRegression\n",
    "from sklearn.model_selection import train_test_split\n",
    "\n",
    "#Leave it as a dataframe because our pipeline is called on a\n",
    "#pandas dataframe to extract the appropriate columns, remember?\n",
    "X = df.drop('yield', axis = 1)\n",
    "#You can covert the target variable to numpy\n",
    "y = df['yield'].values\n",
    "\n",
    "X_train, X_test, y_train, y_test = train_test_split( X, y , test_size = 0.2 , random_state = 42 )"
   ],
   "metadata": {
    "collapsed": false,
    "pycharm": {
     "name": "#%%\n"
    }
   }
  },
  {
   "cell_type": "code",
   "execution_count": 94,
   "outputs": [],
   "source": [],
   "metadata": {
    "collapsed": false,
    "pycharm": {
     "name": "#%%\n"
    }
   }
  },
  {
   "cell_type": "code",
   "execution_count": 104,
   "outputs": [],
   "source": [
    "#The full pipeline as a step in another pipeline with an estimator as the final step\n",
    "full_pipeline_m = Pipeline( steps = [ ( 'full_pipeline', full_pipeline),\n",
    "\n",
    "                                  ( 'clf', LinearRegression() ) ] )"
   ],
   "metadata": {
    "collapsed": false,
    "pycharm": {
     "name": "#%%\n"
    }
   }
  },
  {
   "cell_type": "code",
   "execution_count": 96,
   "outputs": [
    {
     "name": "stdout",
     "output_type": "stream",
     "text": [
      ">>>>>> Selecting features\n",
      "     a  b  c  d\n",
      "id             \n",
      "597  1  0  1  0\n",
      "812  0  1  0  1\n",
      "878  0  1  0  0\n",
      "92   0  0  0  1\n",
      "61   1  0  0  0\n",
      "..  .. .. .. ..\n",
      "584  0  1  0  0\n",
      "28   1  0  0  0\n",
      "496  0  0  1  0\n",
      "966  0  1  1  0\n",
      "628  1  0  1  1\n",
      "\n",
      "[800 rows x 4 columns]\n",
      ">>>> After Categorical transform: feature set:      fertilizer_usage  region_0  region_1  region_2  region_3  region_4  \\\n",
      "id                                                                        \n",
      "597                 3         1         0         0         0         0   \n",
      "812                 2         0         0         0         1         0   \n",
      "\n",
      "     region_5  region_6  pesticide_a  pesticide_b  pesticide_c  pesticide_d  \n",
      "id                                                                           \n",
      "597         0         0            1            0            1            0  \n",
      "812         0         0            0            1            0            1  \n",
      ">>>>>> Selecting features\n",
      ">>>> After numerical transform: feature set:      water        uv   area  pesticides\n",
      "id                                     \n",
      "597  8.711  52.10687  6.064       0.383\n",
      "812  7.722  76.45100  4.144       6.256\n"
     ]
    },
    {
     "data": {
      "text/plain": "Pipeline(steps=[('full_pipeline',\n                 FeatureUnion(transformer_list=[('categorical_pipeline',\n                                                 Pipeline(steps=[('cat_selector',\n                                                                  FeatureSelector(feature_names=['fertilizer_usage',\n                                                                                                 'region',\n                                                                                                 'categories'])),\n                                                                 ('cat_transformer',\n                                                                  CategoricalTransformer())])),\n                                                ('numerical_pipeline',\n                                                 Pipeline(steps=[('num_selector',\n                                                                  FeatureSelector(feature_names=['water',\n                                                                                                 'uv',\n                                                                                                 'area',\n                                                                                                 'pesticides'])),\n                                                                 ('num_transformer',\n                                                                  NumericalTransformer()),\n                                                                 ('imputer',\n                                                                  SimpleImputer(strategy='median')),\n                                                                 ('std_scaler',\n                                                                  RobustScaler())]))])),\n                ('model', LinearRegression())])"
     },
     "execution_count": 96,
     "metadata": {},
     "output_type": "execute_result"
    }
   ],
   "source": [
    "#Can call fit on it just like any other pipeline\n",
    "full_pipeline_m.fit( X_train, y_train )"
   ],
   "metadata": {
    "collapsed": false,
    "pycharm": {
     "name": "#%%\n"
    }
   }
  },
  {
   "cell_type": "code",
   "execution_count": 97,
   "outputs": [
    {
     "name": "stdout",
     "output_type": "stream",
     "text": [
      ">>>>>> Selecting features\n",
      "     a  b  c  d\n",
      "id             \n",
      "327  0  0  1  0\n",
      "750  0  1  0  0\n",
      "571  0  1  0  0\n",
      "52   0  0  1  0\n",
      "635  0  1  0  0\n",
      "..  .. .. .. ..\n",
      "801  0  0  1  0\n",
      "824  1  1  1  1\n",
      "907  0  0  1  0\n",
      "954  0  1  0  0\n",
      "329  0  0  1  0\n",
      "\n",
      "[200 rows x 4 columns]\n",
      ">>>> After Categorical transform: feature set:      fertilizer_usage  region_0  region_1  region_2  region_3  region_4  \\\n",
      "id                                                                        \n",
      "327                 0         0         0         0         1         0   \n",
      "750                 3         0         0         0         0         1   \n",
      "\n",
      "     region_5  region_6  pesticide_a  pesticide_b  pesticide_c  pesticide_d  \n",
      "id                                                                           \n",
      "327         0         0            0            0            1            0  \n",
      "750         0         0            0            1            0            0  \n",
      ">>>>>> Selecting features\n",
      ">>>> After numerical transform: feature set:      water      uv    area  pesticides\n",
      "id                                    \n",
      "327  6.999  66.392   6.378       2.676\n",
      "750  4.918  77.499  13.615       3.531\n"
     ]
    }
   ],
   "source": [
    "#Can predict with it like any other pipeline\n",
    "y_pred = full_pipeline_m.predict( X_test )"
   ],
   "metadata": {
    "collapsed": false,
    "pycharm": {
     "name": "#%%\n"
    }
   }
  },
  {
   "cell_type": "code",
   "execution_count": 101,
   "outputs": [
    {
     "data": {
      "text/plain": "0.7122121965055047"
     },
     "execution_count": 101,
     "metadata": {},
     "output_type": "execute_result"
    }
   ],
   "source": [
    "# R2 score\n",
    "r2_score(y_test, y_pred, multioutput='variance_weighted')"
   ],
   "metadata": {
    "collapsed": false,
    "pycharm": {
     "name": "#%%\n"
    }
   }
  },
  {
   "cell_type": "code",
   "execution_count": 102,
   "outputs": [
    {
     "data": {
      "text/plain": "array([12.02454728, 14.90058322])"
     },
     "execution_count": 102,
     "metadata": {},
     "output_type": "execute_result"
    }
   ],
   "source": [
    "#Confidence Interval of our Predictions will help us better understand the ouput of our model\n",
    "from scipy import stats\n",
    "\n",
    "confidence = 0.95\n",
    "squared_errors = (y_pred-y_test)**2\n",
    "np.sqrt(stats.t.interval(confidence, len(squared_errors)-1, loc=squared_errors.mean(), scale=stats.sem(squared_errors)))"
   ],
   "metadata": {
    "collapsed": false,
    "pycharm": {
     "name": "#%%\n"
    }
   }
  },
  {
   "cell_type": "code",
   "execution_count": 157,
   "outputs": [],
   "source": [
    "estimators = {\n",
    "    DummyRegressor(strategy=\"mean\"):{},\n",
    "    LinearRegression():{},\n",
    "    RandomForestRegressor():{\n",
    "        'clf__bootstrap': [True, False],\n",
    "        'clf__max_depth': [10, 20, 30, 40, 50, 60, 70, 80, 90, 100, 110, None],\n",
    "        'clf__max_features': ['auto', 'sqrt'],\n",
    "        'clf__min_samples_leaf': [1, 2, 4],\n",
    "        'clf__min_samples_split': [2, 5, 10],\n",
    "        'clf__n_estimators': [100, 130, 180, 230]\n",
    "    },\n",
    "    # XGBRegressor():{\n",
    "    #     \"clf__n_estimators\": [10, 50, 100],\n",
    "    #     \"clf__learning_rate\": [0.1, 0.5],\n",
    "    # }\n",
    "}"
   ],
   "metadata": {
    "collapsed": false,
    "pycharm": {
     "name": "#%%\n"
    }
   }
  },
  {
   "cell_type": "code",
   "execution_count": 158,
   "outputs": [],
   "source": [
    "class meta():\n",
    "    # training meta data\n",
    "    test_size = 0.30\n",
    "    val_size = 0.25\n",
    "    random_state = {'test': 20, 'val': 6}\n",
    "    k_fold = 3\n",
    "    scoring = 'r2'\n",
    "    n_iter = 10"
   ],
   "metadata": {
    "collapsed": false,
    "pycharm": {
     "name": "#%%\n"
    }
   }
  },
  {
   "cell_type": "code",
   "execution_count": 159,
   "outputs": [],
   "source": [
    "def train(regressors, Xtrain, ytrain, meta, verbose=0):\n",
    "    best_estimators = {}\n",
    "    for clf, params in tqdm(regressors.items()):\n",
    "\n",
    "        # search across 100 different combinations, and use all available cores\n",
    "        search_cv = RandomizedSearchCV(\n",
    "            # pipeline\n",
    "            estimator = Pipeline(\n",
    "                steps=[ ( 'full_pipeline', full_pipeline),\n",
    "\n",
    "                        ( 'clf', clf ) ]\n",
    "            ),\n",
    "\n",
    "            # cross validation\n",
    "            cv = KFold(\n",
    "                n_splits = meta.k_fold,\n",
    "                shuffle = True,\n",
    "                random_state = meta.random_state['val']\n",
    "            ),\n",
    "\n",
    "            # parameters\n",
    "            param_distributions = params,\n",
    "\n",
    "            scoring = meta.scoring,\n",
    "            n_iter = meta.n_iter,\n",
    "            random_state = meta.random_state['val'],\n",
    "            n_jobs = -1,\n",
    "            verbose = verbose,\n",
    "        )\n",
    "\n",
    "        # fit model\n",
    "        search_cv.fit(Xtrain, ytrain)\n",
    "\n",
    "        # best params and model\n",
    "        search_cv.best_params_\n",
    "        best_estimator = search_cv.best_estimator_\n",
    "        best_estimators[clf] = best_estimator.named_steps['clf']\n",
    "\n",
    "        print(f'Best Estimator {best_estimator}')\n",
    "        print(f'Models'\n",
    "              f' {best_estimators}')\n",
    "\n",
    "    return search_cv\n"
   ],
   "metadata": {
    "collapsed": false,
    "pycharm": {
     "name": "#%%\n"
    }
   }
  },
  {
   "cell_type": "code",
   "execution_count": 160,
   "outputs": [
    {
     "name": "stderr",
     "output_type": "stream",
     "text": [
      "  0%|          | 0/3 [00:00<?, ?it/s]/home/harshal/PycharmProjects/AltaMLTechnical/lib/python3.8/site-packages/sklearn/model_selection/_search.py:285: UserWarning: The total space of parameters 1 is smaller than n_iter=10. Running 1 iterations. For exhaustive searches, use GridSearchCV.\n",
      "  warnings.warn(\n",
      " 33%|███▎      | 1/3 [00:00<00:01,  1.40it/s]/home/harshal/PycharmProjects/AltaMLTechnical/lib/python3.8/site-packages/sklearn/model_selection/_search.py:285: UserWarning: The total space of parameters 1 is smaller than n_iter=10. Running 1 iterations. For exhaustive searches, use GridSearchCV.\n",
      "  warnings.warn(\n",
      "100%|██████████| 3/3 [00:03<00:00,  1.16s/it]\n"
     ]
    },
    {
     "name": "stdout",
     "output_type": "stream",
     "text": [
      ">>>>>>> INIT of feature selector\n",
      ">>>>INIT of categorical transformer\n",
      ">>>>>>> INIT of feature selector\n",
      ">>>>>INIT of NumericalTransformer\n",
      ">>>>>>> INIT of feature selector\n",
      ">>>>INIT of categorical transformer\n",
      ">>>>>>> INIT of feature selector\n",
      ">>>>>INIT of NumericalTransformer\n",
      ">>>>>>> INIT of feature selector\n",
      ">>>>INIT of categorical transformer\n",
      ">>>>>>> INIT of feature selector\n",
      ">>>>>INIT of NumericalTransformer\n",
      ">>>>>>> INIT of feature selector\n",
      ">>>>INIT of categorical transformer\n",
      ">>>>>>> INIT of feature selector\n",
      ">>>>>INIT of NumericalTransformer\n",
      ">>>>>>> INIT of feature selector\n",
      ">>>>INIT of categorical transformer\n",
      ">>>>>>> INIT of feature selector\n",
      ">>>>>INIT of NumericalTransformer\n",
      ">>>>>>> INIT of feature selector\n",
      ">>>>INIT of categorical transformer\n",
      ">>>>>>> INIT of feature selector\n",
      ">>>>>INIT of NumericalTransformer\n",
      ">>>>>> Selecting features\n",
      "     a  b  c  d\n",
      "id             \n",
      "597  1  0  1  0\n",
      "812  0  1  0  1\n",
      "878  0  1  0  0\n",
      "92   0  0  0  1\n",
      "61   1  0  0  0\n",
      "..  .. .. .. ..\n",
      "584  0  1  0  0\n",
      "28   1  0  0  0\n",
      "496  0  0  1  0\n",
      "966  0  1  1  0\n",
      "628  1  0  1  1\n",
      "\n",
      "[800 rows x 4 columns]\n",
      ">>>> After Categorical transform: feature set:      fertilizer_usage  region_0  region_1  region_2  region_3  region_4  \\\n",
      "id                                                                        \n",
      "597                 3         1         0         0         0         0   \n",
      "812                 2         0         0         0         1         0   \n",
      "\n",
      "     region_5  region_6  pesticide_a  pesticide_b  pesticide_c  pesticide_d  \n",
      "id                                                                           \n",
      "597         0         0            1            0            1            0  \n",
      "812         0         0            0            1            0            1  \n",
      ">>>>>> Selecting features\n",
      ">>>> After numerical transform: feature set:      water        uv   area  pesticides\n",
      "id                                     \n",
      "597  8.711  52.10687  6.064       0.383\n",
      "812  7.722  76.45100  4.144       6.256\n",
      "Best Estimator Pipeline(steps=[('full_pipeline',\n",
      "                 FeatureUnion(transformer_list=[('categorical_pipeline',\n",
      "                                                 Pipeline(steps=[('cat_selector',\n",
      "                                                                  FeatureSelector(feature_names=['fertilizer_usage',\n",
      "                                                                                                 'region',\n",
      "                                                                                                 'categories'])),\n",
      "                                                                 ('cat_transformer',\n",
      "                                                                  CategoricalTransformer())])),\n",
      "                                                ('numerical_pipeline',\n",
      "                                                 Pipeline(steps=[('num_selector',\n",
      "                                                                  FeatureSelector(feature_names=['water',\n",
      "                                                                                                 'uv',\n",
      "                                                                                                 'area',\n",
      "                                                                                                 'pesticides'])),\n",
      "                                                                 ('num_transformer',\n",
      "                                                                  NumericalTransformer()),\n",
      "                                                                 ('imputer',\n",
      "                                                                  SimpleImputer(strategy='median')),\n",
      "                                                                 ('std_scaler',\n",
      "                                                                  RobustScaler())]))])),\n",
      "                ('clf', DummyRegressor())])\n",
      "Models {DummyRegressor(): DummyRegressor()}\n",
      ">>>>>>> INIT of feature selector\n",
      ">>>>INIT of categorical transformer\n",
      ">>>>>>> INIT of feature selector\n",
      ">>>>>INIT of NumericalTransformer\n",
      ">>>>>>> INIT of feature selector\n",
      ">>>>INIT of categorical transformer\n",
      ">>>>>>> INIT of feature selector\n",
      ">>>>>INIT of NumericalTransformer\n",
      ">>>>>>> INIT of feature selector\n",
      ">>>>INIT of categorical transformer\n",
      ">>>>>>> INIT of feature selector\n",
      ">>>>>INIT of NumericalTransformer\n",
      ">>>>>>> INIT of feature selector\n",
      ">>>>INIT of categorical transformer\n",
      ">>>>>>> INIT of feature selector\n",
      ">>>>>INIT of NumericalTransformer\n",
      ">>>>>>> INIT of feature selector\n",
      ">>>>INIT of categorical transformer\n",
      ">>>>>>> INIT of feature selector\n",
      ">>>>>INIT of NumericalTransformer\n",
      ">>>>>>> INIT of feature selector\n",
      ">>>>INIT of categorical transformer\n",
      ">>>>>>> INIT of feature selector\n",
      ">>>>>INIT of NumericalTransformer\n",
      ">>>>>> Selecting features\n",
      "     a  b  c  d\n",
      "id             \n",
      "597  1  0  1  0\n",
      "812  0  1  0  1\n",
      "878  0  1  0  0\n",
      "92   0  0  0  1\n",
      "61   1  0  0  0\n",
      "..  .. .. .. ..\n",
      "584  0  1  0  0\n",
      "28   1  0  0  0\n",
      "496  0  0  1  0\n",
      "966  0  1  1  0\n",
      "628  1  0  1  1\n",
      "\n",
      "[800 rows x 4 columns]\n",
      ">>>> After Categorical transform: feature set:      fertilizer_usage  region_0  region_1  region_2  region_3  region_4  \\\n",
      "id                                                                        \n",
      "597                 3         1         0         0         0         0   \n",
      "812                 2         0         0         0         1         0   \n",
      "\n",
      "     region_5  region_6  pesticide_a  pesticide_b  pesticide_c  pesticide_d  \n",
      "id                                                                           \n",
      "597         0         0            1            0            1            0  \n",
      "812         0         0            0            1            0            1  \n",
      ">>>>>> Selecting features\n",
      ">>>> After numerical transform: feature set:      water        uv   area  pesticides\n",
      "id                                     \n",
      "597  8.711  52.10687  6.064       0.383\n",
      "812  7.722  76.45100  4.144       6.256\n",
      "Best Estimator Pipeline(steps=[('full_pipeline',\n",
      "                 FeatureUnion(transformer_list=[('categorical_pipeline',\n",
      "                                                 Pipeline(steps=[('cat_selector',\n",
      "                                                                  FeatureSelector(feature_names=['fertilizer_usage',\n",
      "                                                                                                 'region',\n",
      "                                                                                                 'categories'])),\n",
      "                                                                 ('cat_transformer',\n",
      "                                                                  CategoricalTransformer())])),\n",
      "                                                ('numerical_pipeline',\n",
      "                                                 Pipeline(steps=[('num_selector',\n",
      "                                                                  FeatureSelector(feature_names=['water',\n",
      "                                                                                                 'uv',\n",
      "                                                                                                 'area',\n",
      "                                                                                                 'pesticides'])),\n",
      "                                                                 ('num_transformer',\n",
      "                                                                  NumericalTransformer()),\n",
      "                                                                 ('imputer',\n",
      "                                                                  SimpleImputer(strategy='median')),\n",
      "                                                                 ('std_scaler',\n",
      "                                                                  RobustScaler())]))])),\n",
      "                ('clf', LinearRegression())])\n",
      "Models {DummyRegressor(): DummyRegressor(), LinearRegression(): LinearRegression()}\n",
      ">>>>>>> INIT of feature selector\n",
      ">>>>INIT of categorical transformer\n",
      ">>>>>>> INIT of feature selector\n",
      ">>>>>INIT of NumericalTransformer\n",
      ">>>>>>> INIT of feature selector\n",
      ">>>>INIT of categorical transformer\n",
      ">>>>>>> INIT of feature selector\n",
      ">>>>>INIT of NumericalTransformer\n",
      ">>>>>>> INIT of feature selector\n",
      ">>>>INIT of categorical transformer\n",
      ">>>>>>> INIT of feature selector\n",
      ">>>>>INIT of NumericalTransformer\n",
      ">>>>>>> INIT of feature selector\n",
      ">>>>INIT of categorical transformer\n",
      ">>>>>>> INIT of feature selector\n",
      ">>>>>INIT of NumericalTransformer\n",
      ">>>>>>> INIT of feature selector\n",
      ">>>>INIT of categorical transformer\n",
      ">>>>>>> INIT of feature selector\n",
      ">>>>>INIT of NumericalTransformer\n",
      ">>>>>>> INIT of feature selector\n",
      ">>>>INIT of categorical transformer\n",
      ">>>>>>> INIT of feature selector\n",
      ">>>>>INIT of NumericalTransformer\n",
      ">>>>>>> INIT of feature selector\n",
      ">>>>INIT of categorical transformer\n",
      ">>>>>>> INIT of feature selector\n",
      ">>>>>INIT of NumericalTransformer\n",
      ">>>>>>> INIT of feature selector\n",
      ">>>>INIT of categorical transformer\n",
      ">>>>>>> INIT of feature selector\n",
      ">>>>>INIT of NumericalTransformer\n",
      ">>>>>>> INIT of feature selector\n",
      ">>>>INIT of categorical transformer\n",
      ">>>>>>> INIT of feature selector\n",
      ">>>>>INIT of NumericalTransformer\n",
      ">>>>>>> INIT of feature selector\n",
      ">>>>INIT of categorical transformer\n",
      ">>>>>>> INIT of feature selector\n",
      ">>>>>INIT of NumericalTransformer\n",
      ">>>>>>> INIT of feature selector\n",
      ">>>>INIT of categorical transformer\n",
      ">>>>>>> INIT of feature selector\n",
      ">>>>>INIT of NumericalTransformer\n",
      ">>>>>>> INIT of feature selector\n",
      ">>>>INIT of categorical transformer\n",
      ">>>>>>> INIT of feature selector\n",
      ">>>>>INIT of NumericalTransformer\n",
      ">>>>>>> INIT of feature selector\n",
      ">>>>INIT of categorical transformer\n",
      ">>>>>>> INIT of feature selector\n",
      ">>>>>INIT of NumericalTransformer\n",
      ">>>>>>> INIT of feature selector\n",
      ">>>>INIT of categorical transformer\n",
      ">>>>>>> INIT of feature selector\n",
      ">>>>>INIT of NumericalTransformer\n",
      ">>>>>>> INIT of feature selector\n",
      ">>>>INIT of categorical transformer\n",
      ">>>>>>> INIT of feature selector\n",
      ">>>>>INIT of NumericalTransformer\n",
      ">>>>>>> INIT of feature selector\n",
      ">>>>INIT of categorical transformer\n",
      ">>>>>>> INIT of feature selector\n",
      ">>>>>INIT of NumericalTransformer\n",
      ">>>>>>> INIT of feature selector\n",
      ">>>>INIT of categorical transformer\n",
      ">>>>>>> INIT of feature selector\n",
      ">>>>>INIT of NumericalTransformer\n",
      ">>>>>>> INIT of feature selector\n",
      ">>>>INIT of categorical transformer\n",
      ">>>>>>> INIT of feature selector\n",
      ">>>>>INIT of NumericalTransformer\n",
      ">>>>>>> INIT of feature selector\n",
      ">>>>INIT of categorical transformer\n",
      ">>>>>>> INIT of feature selector\n",
      ">>>>>INIT of NumericalTransformer\n",
      ">>>>>>> INIT of feature selector\n",
      ">>>>INIT of categorical transformer\n",
      ">>>>>>> INIT of feature selector\n",
      ">>>>>INIT of NumericalTransformer\n",
      ">>>>>>> INIT of feature selector\n",
      ">>>>INIT of categorical transformer\n",
      ">>>>>>> INIT of feature selector\n",
      ">>>>>INIT of NumericalTransformer\n",
      ">>>>>>> INIT of feature selector\n",
      ">>>>INIT of categorical transformer\n",
      ">>>>>>> INIT of feature selector\n",
      ">>>>>INIT of NumericalTransformer\n",
      ">>>>>>> INIT of feature selector\n",
      ">>>>INIT of categorical transformer\n",
      ">>>>>>> INIT of feature selector\n",
      ">>>>>INIT of NumericalTransformer\n",
      ">>>>>>> INIT of feature selector\n",
      ">>>>INIT of categorical transformer\n",
      ">>>>>>> INIT of feature selector\n",
      ">>>>>INIT of NumericalTransformer\n",
      ">>>>>>> INIT of feature selector\n",
      ">>>>INIT of categorical transformer\n",
      ">>>>>>> INIT of feature selector\n",
      ">>>>>INIT of NumericalTransformer\n",
      ">>>>>>> INIT of feature selector\n",
      ">>>>INIT of categorical transformer\n",
      ">>>>>>> INIT of feature selector\n",
      ">>>>>INIT of NumericalTransformer\n",
      ">>>>>>> INIT of feature selector\n",
      ">>>>INIT of categorical transformer\n",
      ">>>>>>> INIT of feature selector\n",
      ">>>>>INIT of NumericalTransformer\n",
      ">>>>>>> INIT of feature selector\n",
      ">>>>INIT of categorical transformer\n",
      ">>>>>>> INIT of feature selector\n",
      ">>>>>INIT of NumericalTransformer\n",
      ">>>>>>> INIT of feature selector\n",
      ">>>>INIT of categorical transformer\n",
      ">>>>>>> INIT of feature selector\n",
      ">>>>>INIT of NumericalTransformer\n",
      ">>>>>>> INIT of feature selector\n",
      ">>>>INIT of categorical transformer\n",
      ">>>>>>> INIT of feature selector\n",
      ">>>>>INIT of NumericalTransformer\n",
      ">>>>>>> INIT of feature selector\n",
      ">>>>INIT of categorical transformer\n",
      ">>>>>>> INIT of feature selector\n",
      ">>>>>INIT of NumericalTransformer\n",
      ">>>>>>> INIT of feature selector\n",
      ">>>>INIT of categorical transformer\n",
      ">>>>>>> INIT of feature selector\n",
      ">>>>>INIT of NumericalTransformer\n",
      ">>>>>>> INIT of feature selector\n",
      ">>>>INIT of categorical transformer\n",
      ">>>>>>> INIT of feature selector\n",
      ">>>>>INIT of NumericalTransformer\n",
      ">>>>>> Selecting features\n",
      "     a  b  c  d\n",
      "id             \n",
      "597  1  0  1  0\n",
      "812  0  1  0  1\n",
      "878  0  1  0  0\n",
      "92   0  0  0  1\n",
      "61   1  0  0  0\n",
      "..  .. .. .. ..\n",
      "584  0  1  0  0\n",
      "28   1  0  0  0\n",
      "496  0  0  1  0\n",
      "966  0  1  1  0\n",
      "628  1  0  1  1\n",
      "\n",
      "[800 rows x 4 columns]\n",
      ">>>> After Categorical transform: feature set:      fertilizer_usage  region_0  region_1  region_2  region_3  region_4  \\\n",
      "id                                                                        \n",
      "597                 3         1         0         0         0         0   \n",
      "812                 2         0         0         0         1         0   \n",
      "\n",
      "     region_5  region_6  pesticide_a  pesticide_b  pesticide_c  pesticide_d  \n",
      "id                                                                           \n",
      "597         0         0            1            0            1            0  \n",
      "812         0         0            0            1            0            1  \n",
      ">>>>>> Selecting features\n",
      ">>>> After numerical transform: feature set:      water        uv   area  pesticides\n",
      "id                                     \n",
      "597  8.711  52.10687  6.064       0.383\n",
      "812  7.722  76.45100  4.144       6.256\n",
      "Best Estimator Pipeline(steps=[('full_pipeline',\n",
      "                 FeatureUnion(transformer_list=[('categorical_pipeline',\n",
      "                                                 Pipeline(steps=[('cat_selector',\n",
      "                                                                  FeatureSelector(feature_names=['fertilizer_usage',\n",
      "                                                                                                 'region',\n",
      "                                                                                                 'categories'])),\n",
      "                                                                 ('cat_transformer',\n",
      "                                                                  CategoricalTransformer())])),\n",
      "                                                ('numerical_pipeline',\n",
      "                                                 Pipeline(steps=[('num_selector',\n",
      "                                                                  FeatureSelector(feature_names=['water',\n",
      "                                                                                                 'uv',\n",
      "                                                                                                 'area',\n",
      "                                                                                                 'pesticides'])),\n",
      "                                                                 ('num_transformer',\n",
      "                                                                  NumericalTransformer()),\n",
      "                                                                 ('imputer',\n",
      "                                                                  SimpleImputer(strategy='median')),\n",
      "                                                                 ('std_scaler',\n",
      "                                                                  RobustScaler())]))])),\n",
      "                ('clf',\n",
      "                 RandomForestRegressor(max_depth=40, min_samples_split=10,\n",
      "                                       n_estimators=230))])\n",
      "Models {DummyRegressor(): DummyRegressor(), LinearRegression(): LinearRegression(), RandomForestRegressor(): RandomForestRegressor(max_depth=40, min_samples_split=10, n_estimators=230)}\n"
     ]
    }
   ],
   "source": [
    "searchcv = train(regressors=estimators, Xtrain= X_train, ytrain=y_train, meta=meta())"
   ],
   "metadata": {
    "collapsed": false,
    "pycharm": {
     "name": "#%%\n"
    }
   }
  },
  {
   "cell_type": "code",
   "execution_count": 163,
   "outputs": [
    {
     "name": "stdout",
     "output_type": "stream",
     "text": [
      ">>>>>> Selecting features\n",
      "     a  b  c  d\n",
      "id             \n",
      "327  0  0  1  0\n",
      "750  0  1  0  0\n",
      "571  0  1  0  0\n",
      "52   0  0  1  0\n",
      "635  0  1  0  0\n",
      "..  .. .. .. ..\n",
      "801  0  0  1  0\n",
      "824  1  1  1  1\n",
      "907  0  0  1  0\n",
      "954  0  1  0  0\n",
      "329  0  0  1  0\n",
      "\n",
      "[200 rows x 4 columns]\n",
      ">>>> After Categorical transform: feature set:      fertilizer_usage  region_0  region_1  region_2  region_3  region_4  \\\n",
      "id                                                                        \n",
      "327                 0         0         0         0         1         0   \n",
      "750                 3         0         0         0         0         1   \n",
      "\n",
      "     region_5  region_6  pesticide_a  pesticide_b  pesticide_c  pesticide_d  \n",
      "id                                                                           \n",
      "327         0         0            0            0            1            0  \n",
      "750         0         0            0            1            0            0  \n",
      ">>>>>> Selecting features\n",
      ">>>> After numerical transform: feature set:      water      uv    area  pesticides\n",
      "id                                    \n",
      "327  6.999  66.392   6.378       2.676\n",
      "750  4.918  77.499  13.615       3.531\n"
     ]
    },
    {
     "data": {
      "text/plain": "0.8335427034227463"
     },
     "execution_count": 163,
     "metadata": {},
     "output_type": "execute_result"
    }
   ],
   "source": [
    "searchcv.score(X_test,y_test)"
   ],
   "metadata": {
    "collapsed": false,
    "pycharm": {
     "name": "#%%\n"
    }
   }
  },
  {
   "cell_type": "code",
   "execution_count": 164,
   "outputs": [
    {
     "name": "stdout",
     "output_type": "stream",
     "text": [
      ">>>>>> Selecting features\n",
      "     a  b  c  d\n",
      "id             \n",
      "327  0  0  1  0\n",
      "750  0  1  0  0\n",
      "571  0  1  0  0\n",
      "52   0  0  1  0\n",
      "635  0  1  0  0\n",
      "..  .. .. .. ..\n",
      "801  0  0  1  0\n",
      "824  1  1  1  1\n",
      "907  0  0  1  0\n",
      "954  0  1  0  0\n",
      "329  0  0  1  0\n",
      "\n",
      "[200 rows x 4 columns]\n",
      ">>>> After Categorical transform: feature set:      fertilizer_usage  region_0  region_1  region_2  region_3  region_4  \\\n",
      "id                                                                        \n",
      "327                 0         0         0         0         1         0   \n",
      "750                 3         0         0         0         0         1   \n",
      "\n",
      "     region_5  region_6  pesticide_a  pesticide_b  pesticide_c  pesticide_d  \n",
      "id                                                                           \n",
      "327         0         0            0            0            1            0  \n",
      "750         0         0            0            1            0            0  \n",
      ">>>>>> Selecting features\n",
      ">>>> After numerical transform: feature set:      water      uv    area  pesticides\n",
      "id                                    \n",
      "327  6.999  66.392   6.378       2.676\n",
      "750  4.918  77.499  13.615       3.531\n"
     ]
    },
    {
     "data": {
      "text/plain": "array([ 37.48365281, 110.29512868, 109.4508534 ,  52.99004084,\n        56.28947711,  79.0466514 ,  89.18317651, 114.85937318,\n        52.34454519,  45.35270588,  30.62789076,  30.63659861,\n        90.33265167,  88.82059483,  76.48359279,  54.92193361,\n        34.60647565,  59.1906462 ,  46.78606502,  32.62272686,\n        37.60956932,  66.85088225,  49.8021781 ,  37.18595366,\n        14.88533511,  15.7220194 ,  56.374228  ,  84.05868583,\n        57.44715127,  68.21136407,  43.80373377,  48.3483528 ,\n        80.8353333 ,  66.38961795,  51.03626318,  87.93775037,\n        64.025688  ,  66.7582538 ,  56.42488547,  29.08749277,\n        44.96750547,  37.69591728,  42.0727575 ,  61.67575391,\n        49.5475109 ,  40.31737955,  57.92225025,  65.38820725,\n        63.95611909,  50.5197862 ,  66.57281187,  51.97124986,\n        27.48591011,  55.68178371,  33.59199342,  55.81933549,\n        82.80637406,  38.56136196,  35.38271302,  36.55342739,\n        39.12740093,  88.79380741,  41.02849517,  28.54116128,\n        55.70273995,  82.24828964,  63.23839819,  42.97052036,\n        50.96439107,  47.99915908,  57.94382944,  86.83480799,\n        76.82505761,  95.36876995,  48.65904109,  44.15972056,\n        50.46562723,  47.0760123 ,  70.35548614,  51.92379882,\n        64.60335662,  35.93743161,  40.95258683,  30.72928251,\n        49.80829462,  42.44239199,  90.35821088, 112.80580985,\n        49.78770894,  43.72351347,  61.55338806,  84.00197649,\n        34.317459  ,  29.3975238 ,  65.30406526,  68.5238119 ,\n        47.636564  ,  48.04555878,  35.21394315,  42.8901553 ,\n       100.85199551,  52.95693967,  57.91391547,  45.37900201,\n        80.52456262,  34.70405878,  60.38252309,  73.01651669,\n        54.61514002,  58.13712118,  36.12505478,  48.37599698,\n        88.45325186,  26.0190055 ,  43.52925736,  71.35278001,\n        74.47774833,  87.11435191,  30.63865226,  46.43728839,\n        59.36098222,  62.2982859 , 101.02983721,  36.22310194,\n        38.46881541,  43.44914518,  63.02544655,  56.24722763,\n        51.08393262,  14.52031887,  82.5053576 ,  52.15712518,\n        34.41009355,  95.70820037,  26.14498716,  95.55607104,\n        60.9456892 ,  14.2917155 ,  40.15841898,  37.27262285,\n        63.84222994,  35.83547432,  94.97009055,  43.85491698,\n        54.89620435,  64.31534328,  36.17243627,  32.36214944,\n        41.53977119,  43.24419299,  22.49250437,  56.86585112,\n        68.91407613,  48.25577991,  59.93734567,  82.10357181,\n        38.08792177,  80.59115625,  27.99684789,  47.94510854,\n        60.1913383 ,  49.77752861,  44.38235875,  46.70975067,\n        44.78069237,  44.12983889,  56.92739898,  86.37029009,\n        55.40940308,  47.49419014,  64.16181357,  95.2451929 ,\n        39.80823742,  71.16657786,  83.98413728,  50.64141514,\n        28.16392649,  42.39048342,  27.41293949,  74.72684036,\n        80.68671635,  57.80200572,  51.01466423,  29.38133943,\n        44.26771596,  66.89390293,  64.17267752,  49.51730265,\n        56.70766937,  45.02445343,  59.78635896,  43.52710788,\n        37.97269027, 104.76368673,  16.26732868,  61.62627565,\n        45.8532837 ,  31.28942373,  76.07398436,  37.46376421])"
     },
     "execution_count": 164,
     "metadata": {},
     "output_type": "execute_result"
    }
   ],
   "source": [
    "searchcv.predict(X_test)"
   ],
   "metadata": {
    "collapsed": false,
    "pycharm": {
     "name": "#%%\n"
    }
   }
  },
  {
   "cell_type": "code",
   "execution_count": 165,
   "outputs": [
    {
     "name": "stdout",
     "output_type": "stream",
     "text": [
      ">>>>>> Selecting features\n",
      "     a  b  c  d\n",
      "id             \n",
      "327  0  0  1  0\n",
      "750  0  1  0  0\n",
      "571  0  1  0  0\n",
      "52   0  0  1  0\n",
      "635  0  1  0  0\n",
      "..  .. .. .. ..\n",
      "801  0  0  1  0\n",
      "824  1  1  1  1\n",
      "907  0  0  1  0\n",
      "954  0  1  0  0\n",
      "329  0  0  1  0\n",
      "\n",
      "[200 rows x 4 columns]\n",
      ">>>> After Categorical transform: feature set:      fertilizer_usage  region_0  region_1  region_2  region_3  region_4  \\\n",
      "id                                                                        \n",
      "327                 0         0         0         0         1         0   \n",
      "750                 3         0         0         0         0         1   \n",
      "\n",
      "     region_5  region_6  pesticide_a  pesticide_b  pesticide_c  pesticide_d  \n",
      "id                                                                           \n",
      "327         0         0            0            0            1            0  \n",
      "750         0         0            0            1            0            0  \n",
      ">>>>>> Selecting features\n",
      ">>>> After numerical transform: feature set:      water      uv    area  pesticides\n",
      "id                                    \n",
      "327  6.999  66.392   6.378       2.676\n",
      "750  4.918  77.499  13.615       3.531\n"
     ]
    },
    {
     "data": {
      "text/plain": "0.8335427034227463"
     },
     "execution_count": 165,
     "metadata": {},
     "output_type": "execute_result"
    }
   ],
   "source": [
    "r2_score(y_test, searchcv.predict(X_test))"
   ],
   "metadata": {
    "collapsed": false,
    "pycharm": {
     "name": "#%%\n"
    }
   }
  },
  {
   "cell_type": "code",
   "execution_count": 174,
   "outputs": [
    {
     "data": {
      "text/plain": "Index(['water', 'uv', 'area', 'fertilizer_usage', 'pesticides', 'region',\n       'categories'],\n      dtype='object')"
     },
     "execution_count": 174,
     "metadata": {},
     "output_type": "execute_result"
    }
   ],
   "source": [
    "X_train.columns"
   ],
   "metadata": {
    "collapsed": false,
    "pycharm": {
     "name": "#%%\n"
    }
   }
  },
  {
   "cell_type": "code",
   "execution_count": 175,
   "outputs": [
    {
     "data": {
      "text/plain": "<AxesSubplot:>"
     },
     "execution_count": 175,
     "metadata": {},
     "output_type": "execute_result"
    },
    {
     "data": {
      "text/plain": "<Figure size 432x288 with 1 Axes>",
      "image/png": "[encoded data removed]"
     },
     "metadata": {
      "needs_background": "light"
     },
     "output_type": "display_data"
    }
   ],
   "source": [
    "pd.DataFrame(searchcv.best_estimator_.named_steps['clf'].feature_importances_).plot(kind='bar')"
   ],
   "metadata": {
    "collapsed": false,
    "pycharm": {
     "name": "#%%\n"
    }
   }
  },
  {
   "cell_type": "markdown",
   "source": [
    "\n",
    "Hyperopt sklean"
   ],
   "metadata": {
    "collapsed": false,
    "pycharm": {
     "name": "#%% md\n"
    }
   }
  },
  {
   "cell_type": "code",
   "execution_count": 197,
   "outputs": [],
   "source": [
    "# example of hyperopt-sklearn for the housing regression dataset\n",
    "from pandas import read_csv\n",
    "from sklearn.model_selection import train_test_split\n",
    "from sklearn.metrics import mean_absolute_error, r2_score\n",
    "from hpsklearn import HyperoptEstimator\n",
    "from hpsklearn import any_regressor\n",
    "from hpsklearn import any_preprocessing\n",
    "from hyperopt import tpe\n",
    "# load dataset\n",
    "\n",
    "# define search\n",
    "model = HyperoptEstimator(regressor=any_regressor('reg'), loss_fn=r2_score, algo=tpe.suggest, trial_timeout=30, max_evals=50)\n",
    "\n",
    "#\n",
    "# # perform the search\n",
    "# model.fit(X_train, y_train)\n",
    "# # summarize performance\n",
    "# mae = model.score(X_test, y_test)\n",
    "# print(\"MAE: %.3f\" % mae)\n",
    "# # summarize the best model\n",
    "# print(model.best_model())\n",
    "\n",
    "\n",
    "hypipeline = Pipeline( steps = [ ( 'full_pipeline', full_pipeline),\n",
    "\n",
    "                                  ( 'clf', model ) ] )"
   ],
   "metadata": {
    "collapsed": false,
    "pycharm": {
     "name": "#%%\n"
    }
   }
  },
  {
   "cell_type": "code",
   "execution_count": 183,
   "outputs": [
    {
     "name": "stdout",
     "output_type": "stream",
     "text": [
      ">>>>>> Selecting features\n",
      "     a  b  c  d\n",
      "id             \n",
      "597  1  0  1  0\n",
      "812  0  1  0  1\n",
      "878  0  1  0  0\n",
      "92   0  0  0  1\n",
      "61   1  0  0  0\n",
      "..  .. .. .. ..\n",
      "584  0  1  0  0\n",
      "28   1  0  0  0\n",
      "496  0  0  1  0\n",
      "966  0  1  1  0\n",
      "628  1  0  1  1\n",
      "\n",
      "[800 rows x 4 columns]\n",
      ">>>> After Categorical transform: feature set:      fertilizer_usage  region_0  region_1  region_2  region_3  region_4  \\\n",
      "id                                                                        \n",
      "597                 3         1         0         0         0         0   \n",
      "812                 2         0         0         0         1         0   \n",
      "\n",
      "     region_5  region_6  pesticide_a  pesticide_b  pesticide_c  pesticide_d  \n",
      "id                                                                           \n",
      "597         0         0            1            0            1            0  \n",
      "812         0         0            0            1            0            1  \n",
      ">>>>>> Selecting features\n",
      ">>>> After numerical transform: feature set:      water        uv   area  pesticides\n",
      "id                                     \n",
      "597  8.711  52.10687  6.064       0.383\n",
      "812  7.722  76.45100  4.144       6.256\n"
     ]
    },
    {
     "data": {
      "text/plain": "array([[ 3.        ,  1.        ,  0.        , ..., -1.61304029,\n        -0.55151429, -0.94328505],\n       [ 2.        ,  0.        ,  0.        , ...,  0.20067425,\n        -1.09496179,  0.97929454],\n       [ 2.        ,  0.        ,  0.        , ..., -0.34528488,\n         1.2217662 , -1.03892299],\n       ...,\n       [ 3.        ,  0.        ,  0.        , ...,  0.        ,\n         0.86880838,  1.55217285],\n       [ 2.        ,  0.        ,  0.        , ...,  1.2471456 ,\n         0.60472686, -0.42180211],\n       [ 5.        ,  0.        ,  1.        , ...,  0.09905195,\n        -1.17279932,  0.79008102]])"
     },
     "execution_count": 183,
     "metadata": {},
     "output_type": "execute_result"
    }
   ],
   "source": [
    "full_pipeline.fit_transform(X_train, y_train)"
   ],
   "metadata": {
    "collapsed": false,
    "pycharm": {
     "name": "#%%\n"
    }
   }
  },
  {
   "cell_type": "code",
   "execution_count": 180,
   "outputs": [
    {
     "data": {
      "text/plain": "FeatureUnion(transformer_list=[('categorical_pipeline',\n                                Pipeline(steps=[('cat_selector',\n                                                 FeatureSelector(feature_names=['fertilizer_usage',\n                                                                                'region',\n                                                                                'categories'])),\n                                                ('cat_transformer',\n                                                 CategoricalTransformer())])),\n                               ('numerical_pipeline',\n                                Pipeline(steps=[('num_selector',\n                                                 FeatureSelector(feature_names=['water',\n                                                                                'uv',\n                                                                                'area',\n                                                                                'pesticides'])),\n                                                ('num_transformer',\n                                                 NumericalTransformer()),\n                                                ('imputer',\n                                                 SimpleImputer(strategy='median')),\n                                                ('std_scaler',\n                                                 RobustScaler())]))])"
     },
     "execution_count": 180,
     "metadata": {},
     "output_type": "execute_result"
    }
   ],
   "source": [],
   "metadata": {
    "collapsed": false,
    "pycharm": {
     "name": "#%%\n"
    }
   }
  },
  {
   "cell_type": "code",
   "execution_count": 201,
   "outputs": [
    {
     "name": "stdout",
     "output_type": "stream",
     "text": [
      ">>>>>> Selecting features\n",
      "     a  b  c  d\n",
      "id             \n",
      "597  1  0  1  0\n",
      "812  0  1  0  1\n",
      "878  0  1  0  0\n",
      "92   0  0  0  1\n",
      "61   1  0  0  0\n",
      "..  .. .. .. ..\n",
      "584  0  1  0  0\n",
      "28   1  0  0  0\n",
      "496  0  0  1  0\n",
      "966  0  1  1  0\n",
      "628  1  0  1  1\n",
      "\n",
      "[800 rows x 4 columns]\n",
      ">>>> After Categorical transform: feature set:      fertilizer_usage  region_0  region_1  region_2  region_3  region_4  \\\n",
      "id                                                                        \n",
      "597                 3         1         0         0         0         0   \n",
      "812                 2         0         0         0         1         0   \n",
      "\n",
      "     region_5  region_6  pesticide_a  pesticide_b  pesticide_c  pesticide_d  \n",
      "id                                                                           \n",
      "597         0         0            1            0            1            0  \n",
      "812         0         0            0            1            0            1  \n",
      ">>>>>> Selecting features\n",
      ">>>> After numerical transform: feature set:      water        uv   area  pesticides\n",
      "id                                     \n",
      "597  8.711  52.10687  6.064       0.383\n",
      "812  7.722  76.45100  4.144       6.256\n",
      "100%|██████████| 1/1 [00:00<00:00, 17.74trial/s, best loss: -0.003917736104015024]\n",
      "100%|██████████| 2/2 [00:00<00:00, 16.41trial/s, best loss: -0.003917736104015024]\n",
      " 67%|██████▋   | 2/3 [00:00<?, ?trial/s, best loss=?]\n"
     ]
    },
    {
     "name": "stderr",
     "output_type": "stream",
     "text": [
      "job exception: __init__() got an unexpected keyword argument 'presort'\n",
      "\n"
     ]
    },
    {
     "ename": "TypeError",
     "evalue": "__init__() got an unexpected keyword argument 'presort'",
     "output_type": "error",
     "traceback": [
      "\u001B[0;31m---------------------------------------------------------------------------\u001B[0m",
      "\u001B[0;31mTypeError\u001B[0m                                 Traceback (most recent call last)",
      "\u001B[0;32m<ipython-input-201-59b0e8afad1e>\u001B[0m in \u001B[0;36m<module>\u001B[0;34m\u001B[0m\n\u001B[1;32m      1\u001B[0m \u001B[0;31m#Can call fit on it just like any other pipeline\u001B[0m\u001B[0;34m\u001B[0m\u001B[0;34m\u001B[0m\u001B[0;34m\u001B[0m\u001B[0m\n\u001B[0;32m----> 2\u001B[0;31m \u001B[0mmodel\u001B[0m\u001B[0;34m.\u001B[0m\u001B[0mfit\u001B[0m\u001B[0;34m(\u001B[0m\u001B[0mfull_pipeline\u001B[0m\u001B[0;34m.\u001B[0m\u001B[0mfit_transform\u001B[0m\u001B[0;34m(\u001B[0m\u001B[0mX_train\u001B[0m\u001B[0;34m,\u001B[0m \u001B[0my_train\u001B[0m\u001B[0;34m)\u001B[0m\u001B[0;34m,\u001B[0m \u001B[0my_train\u001B[0m\u001B[0;34m)\u001B[0m\u001B[0;34m\u001B[0m\u001B[0;34m\u001B[0m\u001B[0m\n\u001B[0m",
      "\u001B[0;32m~/PycharmProjects/AltaMLTechnical/lib/python3.8/site-packages/hpsklearn/estimator.py\u001B[0m in \u001B[0;36mfit\u001B[0;34m(self, X, y, EX_list, valid_size, n_folds, cv_shuffle, warm_start, random_state, weights)\u001B[0m\n\u001B[1;32m    744\u001B[0m             increment = min(self.fit_increment,\n\u001B[1;32m    745\u001B[0m                             adjusted_max_evals - len(self.trials.trials))\n\u001B[0;32m--> 746\u001B[0;31m             \u001B[0mfit_iter\u001B[0m\u001B[0;34m.\u001B[0m\u001B[0msend\u001B[0m\u001B[0;34m(\u001B[0m\u001B[0mincrement\u001B[0m\u001B[0;34m)\u001B[0m\u001B[0;34m\u001B[0m\u001B[0;34m\u001B[0m\u001B[0m\n\u001B[0m\u001B[1;32m    747\u001B[0m             \u001B[0;32mif\u001B[0m \u001B[0mfilename\u001B[0m \u001B[0;32mis\u001B[0m \u001B[0;32mnot\u001B[0m \u001B[0;32mNone\u001B[0m\u001B[0;34m:\u001B[0m\u001B[0;34m\u001B[0m\u001B[0;34m\u001B[0m\u001B[0m\n\u001B[1;32m    748\u001B[0m                 \u001B[0;32mwith\u001B[0m \u001B[0mopen\u001B[0m\u001B[0;34m(\u001B[0m\u001B[0mfilename\u001B[0m\u001B[0;34m,\u001B[0m \u001B[0;34m'wb'\u001B[0m\u001B[0;34m)\u001B[0m \u001B[0;32mas\u001B[0m \u001B[0mdump_file\u001B[0m\u001B[0;34m:\u001B[0m\u001B[0;34m\u001B[0m\u001B[0;34m\u001B[0m\u001B[0m\n",
      "\u001B[0;32m~/PycharmProjects/AltaMLTechnical/lib/python3.8/site-packages/hpsklearn/estimator.py\u001B[0m in \u001B[0;36mfit_iter\u001B[0;34m(self, X, y, EX_list, valid_size, n_folds, cv_shuffle, warm_start, random_state, weights, increment)\u001B[0m\n\u001B[1;32m    646\u001B[0m             \u001B[0;31m#       latest hyperopt.fmin() on master does not match PyPI\u001B[0m\u001B[0;34m\u001B[0m\u001B[0;34m\u001B[0m\u001B[0;34m\u001B[0m\u001B[0m\n\u001B[1;32m    647\u001B[0m             \u001B[0;32mif\u001B[0m \u001B[0;34m'rstate'\u001B[0m \u001B[0;32min\u001B[0m \u001B[0minspect\u001B[0m\u001B[0;34m.\u001B[0m\u001B[0mgetargspec\u001B[0m\u001B[0;34m(\u001B[0m\u001B[0mhyperopt\u001B[0m\u001B[0;34m.\u001B[0m\u001B[0mfmin\u001B[0m\u001B[0;34m)\u001B[0m\u001B[0;34m.\u001B[0m\u001B[0margs\u001B[0m\u001B[0;34m:\u001B[0m\u001B[0;34m\u001B[0m\u001B[0;34m\u001B[0m\u001B[0m\n\u001B[0;32m--> 648\u001B[0;31m                 hyperopt.fmin(fn_with_timeout,\n\u001B[0m\u001B[1;32m    649\u001B[0m                               \u001B[0mspace\u001B[0m\u001B[0;34m=\u001B[0m\u001B[0mself\u001B[0m\u001B[0;34m.\u001B[0m\u001B[0mspace\u001B[0m\u001B[0;34m,\u001B[0m\u001B[0;34m\u001B[0m\u001B[0;34m\u001B[0m\u001B[0m\n\u001B[1;32m    650\u001B[0m                               \u001B[0malgo\u001B[0m\u001B[0;34m=\u001B[0m\u001B[0mself\u001B[0m\u001B[0;34m.\u001B[0m\u001B[0malgo\u001B[0m\u001B[0;34m,\u001B[0m\u001B[0;34m\u001B[0m\u001B[0;34m\u001B[0m\u001B[0m\n",
      "\u001B[0;32m~/PycharmProjects/AltaMLTechnical/lib/python3.8/site-packages/hyperopt/fmin.py\u001B[0m in \u001B[0;36mfmin\u001B[0;34m(fn, space, algo, max_evals, timeout, loss_threshold, trials, rstate, allow_trials_fmin, pass_expr_memo_ctrl, catch_eval_exceptions, verbose, return_argmin, points_to_evaluate, max_queue_len, show_progressbar, early_stop_fn, trials_save_file)\u001B[0m\n\u001B[1;32m    505\u001B[0m \u001B[0;34m\u001B[0m\u001B[0m\n\u001B[1;32m    506\u001B[0m     \u001B[0;32mif\u001B[0m \u001B[0mallow_trials_fmin\u001B[0m \u001B[0;32mand\u001B[0m \u001B[0mhasattr\u001B[0m\u001B[0;34m(\u001B[0m\u001B[0mtrials\u001B[0m\u001B[0;34m,\u001B[0m \u001B[0;34m\"fmin\"\u001B[0m\u001B[0;34m)\u001B[0m\u001B[0;34m:\u001B[0m\u001B[0;34m\u001B[0m\u001B[0;34m\u001B[0m\u001B[0m\n\u001B[0;32m--> 507\u001B[0;31m         return trials.fmin(\n\u001B[0m\u001B[1;32m    508\u001B[0m             \u001B[0mfn\u001B[0m\u001B[0;34m,\u001B[0m\u001B[0;34m\u001B[0m\u001B[0;34m\u001B[0m\u001B[0m\n\u001B[1;32m    509\u001B[0m             \u001B[0mspace\u001B[0m\u001B[0;34m,\u001B[0m\u001B[0;34m\u001B[0m\u001B[0;34m\u001B[0m\u001B[0m\n",
      "\u001B[0;32m~/PycharmProjects/AltaMLTechnical/lib/python3.8/site-packages/hyperopt/base.py\u001B[0m in \u001B[0;36mfmin\u001B[0;34m(self, fn, space, algo, max_evals, timeout, loss_threshold, max_queue_len, rstate, verbose, pass_expr_memo_ctrl, catch_eval_exceptions, return_argmin, show_progressbar, early_stop_fn, trials_save_file)\u001B[0m\n\u001B[1;32m    680\u001B[0m         \u001B[0;32mfrom\u001B[0m \u001B[0;34m.\u001B[0m\u001B[0mfmin\u001B[0m \u001B[0;32mimport\u001B[0m \u001B[0mfmin\u001B[0m\u001B[0;34m\u001B[0m\u001B[0;34m\u001B[0m\u001B[0m\n\u001B[1;32m    681\u001B[0m \u001B[0;34m\u001B[0m\u001B[0m\n\u001B[0;32m--> 682\u001B[0;31m         return fmin(\n\u001B[0m\u001B[1;32m    683\u001B[0m             \u001B[0mfn\u001B[0m\u001B[0;34m,\u001B[0m\u001B[0;34m\u001B[0m\u001B[0;34m\u001B[0m\u001B[0m\n\u001B[1;32m    684\u001B[0m             \u001B[0mspace\u001B[0m\u001B[0;34m,\u001B[0m\u001B[0;34m\u001B[0m\u001B[0;34m\u001B[0m\u001B[0m\n",
      "\u001B[0;32m~/PycharmProjects/AltaMLTechnical/lib/python3.8/site-packages/hyperopt/fmin.py\u001B[0m in \u001B[0;36mfmin\u001B[0;34m(fn, space, algo, max_evals, timeout, loss_threshold, trials, rstate, allow_trials_fmin, pass_expr_memo_ctrl, catch_eval_exceptions, verbose, return_argmin, points_to_evaluate, max_queue_len, show_progressbar, early_stop_fn, trials_save_file)\u001B[0m\n\u001B[1;32m    551\u001B[0m \u001B[0;34m\u001B[0m\u001B[0m\n\u001B[1;32m    552\u001B[0m     \u001B[0;31m# next line is where the fmin is actually executed\u001B[0m\u001B[0;34m\u001B[0m\u001B[0;34m\u001B[0m\u001B[0;34m\u001B[0m\u001B[0m\n\u001B[0;32m--> 553\u001B[0;31m     \u001B[0mrval\u001B[0m\u001B[0;34m.\u001B[0m\u001B[0mexhaust\u001B[0m\u001B[0;34m(\u001B[0m\u001B[0;34m)\u001B[0m\u001B[0;34m\u001B[0m\u001B[0;34m\u001B[0m\u001B[0m\n\u001B[0m\u001B[1;32m    554\u001B[0m \u001B[0;34m\u001B[0m\u001B[0m\n\u001B[1;32m    555\u001B[0m     \u001B[0;32mif\u001B[0m \u001B[0mreturn_argmin\u001B[0m\u001B[0;34m:\u001B[0m\u001B[0;34m\u001B[0m\u001B[0;34m\u001B[0m\u001B[0m\n",
      "\u001B[0;32m~/PycharmProjects/AltaMLTechnical/lib/python3.8/site-packages/hyperopt/fmin.py\u001B[0m in \u001B[0;36mexhaust\u001B[0;34m(self)\u001B[0m\n\u001B[1;32m    354\u001B[0m     \u001B[0;32mdef\u001B[0m \u001B[0mexhaust\u001B[0m\u001B[0;34m(\u001B[0m\u001B[0mself\u001B[0m\u001B[0;34m)\u001B[0m\u001B[0;34m:\u001B[0m\u001B[0;34m\u001B[0m\u001B[0;34m\u001B[0m\u001B[0m\n\u001B[1;32m    355\u001B[0m         \u001B[0mn_done\u001B[0m \u001B[0;34m=\u001B[0m \u001B[0mlen\u001B[0m\u001B[0;34m(\u001B[0m\u001B[0mself\u001B[0m\u001B[0;34m.\u001B[0m\u001B[0mtrials\u001B[0m\u001B[0;34m)\u001B[0m\u001B[0;34m\u001B[0m\u001B[0;34m\u001B[0m\u001B[0m\n\u001B[0;32m--> 356\u001B[0;31m         \u001B[0mself\u001B[0m\u001B[0;34m.\u001B[0m\u001B[0mrun\u001B[0m\u001B[0;34m(\u001B[0m\u001B[0mself\u001B[0m\u001B[0;34m.\u001B[0m\u001B[0mmax_evals\u001B[0m \u001B[0;34m-\u001B[0m \u001B[0mn_done\u001B[0m\u001B[0;34m,\u001B[0m \u001B[0mblock_until_done\u001B[0m\u001B[0;34m=\u001B[0m\u001B[0mself\u001B[0m\u001B[0;34m.\u001B[0m\u001B[0masynchronous\u001B[0m\u001B[0;34m)\u001B[0m\u001B[0;34m\u001B[0m\u001B[0;34m\u001B[0m\u001B[0m\n\u001B[0m\u001B[1;32m    357\u001B[0m         \u001B[0mself\u001B[0m\u001B[0;34m.\u001B[0m\u001B[0mtrials\u001B[0m\u001B[0;34m.\u001B[0m\u001B[0mrefresh\u001B[0m\u001B[0;34m(\u001B[0m\u001B[0;34m)\u001B[0m\u001B[0;34m\u001B[0m\u001B[0;34m\u001B[0m\u001B[0m\n\u001B[1;32m    358\u001B[0m         \u001B[0;32mreturn\u001B[0m \u001B[0mself\u001B[0m\u001B[0;34m\u001B[0m\u001B[0;34m\u001B[0m\u001B[0m\n",
      "\u001B[0;32m~/PycharmProjects/AltaMLTechnical/lib/python3.8/site-packages/hyperopt/fmin.py\u001B[0m in \u001B[0;36mrun\u001B[0;34m(self, N, block_until_done)\u001B[0m\n\u001B[1;32m    290\u001B[0m                 \u001B[0;32melse\u001B[0m\u001B[0;34m:\u001B[0m\u001B[0;34m\u001B[0m\u001B[0;34m\u001B[0m\u001B[0m\n\u001B[1;32m    291\u001B[0m                     \u001B[0;31m# -- loop over trials and do the jobs directly\u001B[0m\u001B[0;34m\u001B[0m\u001B[0;34m\u001B[0m\u001B[0;34m\u001B[0m\u001B[0m\n\u001B[0;32m--> 292\u001B[0;31m                     \u001B[0mself\u001B[0m\u001B[0;34m.\u001B[0m\u001B[0mserial_evaluate\u001B[0m\u001B[0;34m(\u001B[0m\u001B[0;34m)\u001B[0m\u001B[0;34m\u001B[0m\u001B[0;34m\u001B[0m\u001B[0m\n\u001B[0m\u001B[1;32m    293\u001B[0m \u001B[0;34m\u001B[0m\u001B[0m\n\u001B[1;32m    294\u001B[0m                 \u001B[0mself\u001B[0m\u001B[0;34m.\u001B[0m\u001B[0mtrials\u001B[0m\u001B[0;34m.\u001B[0m\u001B[0mrefresh\u001B[0m\u001B[0;34m(\u001B[0m\u001B[0;34m)\u001B[0m\u001B[0;34m\u001B[0m\u001B[0;34m\u001B[0m\u001B[0m\n",
      "\u001B[0;32m~/PycharmProjects/AltaMLTechnical/lib/python3.8/site-packages/hyperopt/fmin.py\u001B[0m in \u001B[0;36mserial_evaluate\u001B[0;34m(self, N)\u001B[0m\n\u001B[1;32m    168\u001B[0m                 \u001B[0mctrl\u001B[0m \u001B[0;34m=\u001B[0m \u001B[0mbase\u001B[0m\u001B[0;34m.\u001B[0m\u001B[0mCtrl\u001B[0m\u001B[0;34m(\u001B[0m\u001B[0mself\u001B[0m\u001B[0;34m.\u001B[0m\u001B[0mtrials\u001B[0m\u001B[0;34m,\u001B[0m \u001B[0mcurrent_trial\u001B[0m\u001B[0;34m=\u001B[0m\u001B[0mtrial\u001B[0m\u001B[0;34m)\u001B[0m\u001B[0;34m\u001B[0m\u001B[0;34m\u001B[0m\u001B[0m\n\u001B[1;32m    169\u001B[0m                 \u001B[0;32mtry\u001B[0m\u001B[0;34m:\u001B[0m\u001B[0;34m\u001B[0m\u001B[0;34m\u001B[0m\u001B[0m\n\u001B[0;32m--> 170\u001B[0;31m                     \u001B[0mresult\u001B[0m \u001B[0;34m=\u001B[0m \u001B[0mself\u001B[0m\u001B[0;34m.\u001B[0m\u001B[0mdomain\u001B[0m\u001B[0;34m.\u001B[0m\u001B[0mevaluate\u001B[0m\u001B[0;34m(\u001B[0m\u001B[0mspec\u001B[0m\u001B[0;34m,\u001B[0m \u001B[0mctrl\u001B[0m\u001B[0;34m)\u001B[0m\u001B[0;34m\u001B[0m\u001B[0;34m\u001B[0m\u001B[0m\n\u001B[0m\u001B[1;32m    171\u001B[0m                 \u001B[0;32mexcept\u001B[0m \u001B[0mException\u001B[0m \u001B[0;32mas\u001B[0m \u001B[0me\u001B[0m\u001B[0;34m:\u001B[0m\u001B[0;34m\u001B[0m\u001B[0;34m\u001B[0m\u001B[0m\n\u001B[1;32m    172\u001B[0m                     \u001B[0mlogger\u001B[0m\u001B[0;34m.\u001B[0m\u001B[0merror\u001B[0m\u001B[0;34m(\u001B[0m\u001B[0;34m\"job exception: %s\"\u001B[0m \u001B[0;34m%\u001B[0m \u001B[0mstr\u001B[0m\u001B[0;34m(\u001B[0m\u001B[0me\u001B[0m\u001B[0;34m)\u001B[0m\u001B[0;34m)\u001B[0m\u001B[0;34m\u001B[0m\u001B[0;34m\u001B[0m\u001B[0m\n",
      "\u001B[0;32m~/PycharmProjects/AltaMLTechnical/lib/python3.8/site-packages/hyperopt/base.py\u001B[0m in \u001B[0;36mevaluate\u001B[0;34m(self, config, ctrl, attach_attachments)\u001B[0m\n\u001B[1;32m    900\u001B[0m             \u001B[0;31m#    either into the pyll part (self.expr)\u001B[0m\u001B[0;34m\u001B[0m\u001B[0;34m\u001B[0m\u001B[0;34m\u001B[0m\u001B[0m\n\u001B[1;32m    901\u001B[0m             \u001B[0;31m#    or the normal Python part (self.fn)\u001B[0m\u001B[0;34m\u001B[0m\u001B[0;34m\u001B[0m\u001B[0;34m\u001B[0m\u001B[0m\n\u001B[0;32m--> 902\u001B[0;31m             pyll_rval = pyll.rec_eval(\n\u001B[0m\u001B[1;32m    903\u001B[0m                 \u001B[0mself\u001B[0m\u001B[0;34m.\u001B[0m\u001B[0mexpr\u001B[0m\u001B[0;34m,\u001B[0m\u001B[0;34m\u001B[0m\u001B[0;34m\u001B[0m\u001B[0m\n\u001B[1;32m    904\u001B[0m                 \u001B[0mmemo\u001B[0m\u001B[0;34m=\u001B[0m\u001B[0mmemo\u001B[0m\u001B[0;34m,\u001B[0m\u001B[0;34m\u001B[0m\u001B[0;34m\u001B[0m\u001B[0m\n",
      "\u001B[0;32m~/PycharmProjects/AltaMLTechnical/lib/python3.8/site-packages/hyperopt/pyll/base.py\u001B[0m in \u001B[0;36mrec_eval\u001B[0;34m(expr, deepcopy_inputs, memo, max_program_len, memo_gc, print_trace, print_node_on_error)\u001B[0m\n\u001B[1;32m    909\u001B[0m \u001B[0;34m\u001B[0m\u001B[0m\n\u001B[1;32m    910\u001B[0m             \u001B[0;32mtry\u001B[0m\u001B[0;34m:\u001B[0m\u001B[0;34m\u001B[0m\u001B[0;34m\u001B[0m\u001B[0m\n\u001B[0;32m--> 911\u001B[0;31m                 \u001B[0mrval\u001B[0m \u001B[0;34m=\u001B[0m \u001B[0mscope\u001B[0m\u001B[0;34m.\u001B[0m\u001B[0m_impls\u001B[0m\u001B[0;34m[\u001B[0m\u001B[0mnode\u001B[0m\u001B[0;34m.\u001B[0m\u001B[0mname\u001B[0m\u001B[0;34m]\u001B[0m\u001B[0;34m(\u001B[0m\u001B[0;34m*\u001B[0m\u001B[0margs\u001B[0m\u001B[0;34m,\u001B[0m \u001B[0;34m**\u001B[0m\u001B[0mkwargs\u001B[0m\u001B[0;34m)\u001B[0m\u001B[0;34m\u001B[0m\u001B[0;34m\u001B[0m\u001B[0m\n\u001B[0m\u001B[1;32m    912\u001B[0m \u001B[0;34m\u001B[0m\u001B[0m\n\u001B[1;32m    913\u001B[0m             \u001B[0;32mexcept\u001B[0m \u001B[0mException\u001B[0m \u001B[0;32mas\u001B[0m \u001B[0me\u001B[0m\u001B[0;34m:\u001B[0m\u001B[0;34m\u001B[0m\u001B[0;34m\u001B[0m\u001B[0m\n",
      "\u001B[0;32m~/PycharmProjects/AltaMLTechnical/lib/python3.8/site-packages/hpsklearn/components.py\u001B[0m in \u001B[0;36msklearn_GradientBoostingRegressor\u001B[0;34m(*args, **kwargs)\u001B[0m\n\u001B[1;32m     64\u001B[0m \u001B[0;34m@\u001B[0m\u001B[0mscope\u001B[0m\u001B[0;34m.\u001B[0m\u001B[0mdefine\u001B[0m\u001B[0;34m\u001B[0m\u001B[0;34m\u001B[0m\u001B[0m\n\u001B[1;32m     65\u001B[0m \u001B[0;32mdef\u001B[0m \u001B[0msklearn_GradientBoostingRegressor\u001B[0m\u001B[0;34m(\u001B[0m\u001B[0;34m*\u001B[0m\u001B[0margs\u001B[0m\u001B[0;34m,\u001B[0m \u001B[0;34m**\u001B[0m\u001B[0mkwargs\u001B[0m\u001B[0;34m)\u001B[0m\u001B[0;34m:\u001B[0m\u001B[0;34m\u001B[0m\u001B[0;34m\u001B[0m\u001B[0m\n\u001B[0;32m---> 66\u001B[0;31m     \u001B[0;32mreturn\u001B[0m \u001B[0msklearn\u001B[0m\u001B[0;34m.\u001B[0m\u001B[0mensemble\u001B[0m\u001B[0;34m.\u001B[0m\u001B[0mGradientBoostingRegressor\u001B[0m\u001B[0;34m(\u001B[0m\u001B[0;34m*\u001B[0m\u001B[0margs\u001B[0m\u001B[0;34m,\u001B[0m \u001B[0;34m**\u001B[0m\u001B[0mkwargs\u001B[0m\u001B[0;34m)\u001B[0m\u001B[0;34m\u001B[0m\u001B[0;34m\u001B[0m\u001B[0m\n\u001B[0m\u001B[1;32m     67\u001B[0m \u001B[0;34m\u001B[0m\u001B[0m\n\u001B[1;32m     68\u001B[0m \u001B[0;34m@\u001B[0m\u001B[0mscope\u001B[0m\u001B[0;34m.\u001B[0m\u001B[0mdefine\u001B[0m\u001B[0;34m\u001B[0m\u001B[0;34m\u001B[0m\u001B[0m\n",
      "\u001B[0;32m~/PycharmProjects/AltaMLTechnical/lib/python3.8/site-packages/sklearn/utils/validation.py\u001B[0m in \u001B[0;36minner_f\u001B[0;34m(*args, **kwargs)\u001B[0m\n\u001B[1;32m     61\u001B[0m             \u001B[0mextra_args\u001B[0m \u001B[0;34m=\u001B[0m \u001B[0mlen\u001B[0m\u001B[0;34m(\u001B[0m\u001B[0margs\u001B[0m\u001B[0;34m)\u001B[0m \u001B[0;34m-\u001B[0m \u001B[0mlen\u001B[0m\u001B[0;34m(\u001B[0m\u001B[0mall_args\u001B[0m\u001B[0;34m)\u001B[0m\u001B[0;34m\u001B[0m\u001B[0;34m\u001B[0m\u001B[0m\n\u001B[1;32m     62\u001B[0m             \u001B[0;32mif\u001B[0m \u001B[0mextra_args\u001B[0m \u001B[0;34m<=\u001B[0m \u001B[0;36m0\u001B[0m\u001B[0;34m:\u001B[0m\u001B[0;34m\u001B[0m\u001B[0;34m\u001B[0m\u001B[0m\n\u001B[0;32m---> 63\u001B[0;31m                 \u001B[0;32mreturn\u001B[0m \u001B[0mf\u001B[0m\u001B[0;34m(\u001B[0m\u001B[0;34m*\u001B[0m\u001B[0margs\u001B[0m\u001B[0;34m,\u001B[0m \u001B[0;34m**\u001B[0m\u001B[0mkwargs\u001B[0m\u001B[0;34m)\u001B[0m\u001B[0;34m\u001B[0m\u001B[0;34m\u001B[0m\u001B[0m\n\u001B[0m\u001B[1;32m     64\u001B[0m \u001B[0;34m\u001B[0m\u001B[0m\n\u001B[1;32m     65\u001B[0m             \u001B[0;31m# extra_args > 0\u001B[0m\u001B[0;34m\u001B[0m\u001B[0;34m\u001B[0m\u001B[0;34m\u001B[0m\u001B[0m\n",
      "\u001B[0;31mTypeError\u001B[0m: __init__() got an unexpected keyword argument 'presort'"
     ]
    }
   ],
   "source": [
    "#Can call fit on it just like any other pipeline\n",
    "model.fit(full_pipeline.fit_transform(X_train, y_train), y_train)"
   ],
   "metadata": {
    "collapsed": false,
    "pycharm": {
     "name": "#%%\n"
    }
   }
  },
  {
   "cell_type": "code",
   "execution_count": 199,
   "outputs": [
    {
     "name": "stdout",
     "output_type": "stream",
     "text": [
      ">>>>>> Selecting features\n",
      "     a  b  c  d\n",
      "id             \n",
      "327  0  0  1  0\n",
      "750  0  1  0  0\n",
      "571  0  1  0  0\n",
      "52   0  0  1  0\n",
      "635  0  1  0  0\n",
      "..  .. .. .. ..\n",
      "801  0  0  1  0\n",
      "824  1  1  1  1\n",
      "907  0  0  1  0\n",
      "954  0  1  0  0\n",
      "329  0  0  1  0\n",
      "\n",
      "[200 rows x 4 columns]\n",
      ">>>> After Categorical transform: feature set:      fertilizer_usage  region_0  region_1  region_2  region_3  region_4  \\\n",
      "id                                                                        \n",
      "327                 0         0         0         0         1         0   \n",
      "750                 3         0         0         0         0         1   \n",
      "\n",
      "     region_5  region_6  pesticide_a  pesticide_b  pesticide_c  pesticide_d  \n",
      "id                                                                           \n",
      "327         0         0            0            0            1            0  \n",
      "750         0         0            0            1            0            0  \n",
      ">>>>>> Selecting features\n",
      ">>>> After numerical transform: feature set:      water      uv    area  pesticides\n",
      "id                                    \n",
      "327  6.999  66.392   6.378       2.676\n",
      "750  4.918  77.499  13.615       3.531\n"
     ]
    },
    {
     "ename": "NotFittedError",
     "evalue": "This KNeighborsRegressor instance is not fitted yet. Call 'fit' with appropriate arguments before using this estimator.",
     "output_type": "error",
     "traceback": [
      "\u001B[0;31m---------------------------------------------------------------------------\u001B[0m",
      "\u001B[0;31mNotFittedError\u001B[0m                            Traceback (most recent call last)",
      "\u001B[0;32m<ipython-input-199-203debd9d90d>\u001B[0m in \u001B[0;36m<module>\u001B[0;34m\u001B[0m\n\u001B[1;32m      1\u001B[0m \u001B[0;31m#Can predict with it like any other pipeline\u001B[0m\u001B[0;34m\u001B[0m\u001B[0;34m\u001B[0m\u001B[0;34m\u001B[0m\u001B[0m\n\u001B[0;32m----> 2\u001B[0;31m \u001B[0mmodel\u001B[0m\u001B[0;34m.\u001B[0m\u001B[0mscore\u001B[0m\u001B[0;34m(\u001B[0m\u001B[0mfull_pipeline\u001B[0m\u001B[0;34m.\u001B[0m\u001B[0mfit_transform\u001B[0m\u001B[0;34m(\u001B[0m\u001B[0mX_test\u001B[0m\u001B[0;34m,\u001B[0m \u001B[0my_test\u001B[0m\u001B[0;34m)\u001B[0m\u001B[0;34m,\u001B[0m \u001B[0my_test\u001B[0m\u001B[0;34m)\u001B[0m\u001B[0;34m\u001B[0m\u001B[0;34m\u001B[0m\u001B[0m\n\u001B[0m\u001B[1;32m      3\u001B[0m \u001B[0;34m\u001B[0m\u001B[0m\n\u001B[1;32m      4\u001B[0m \u001B[0;34m\u001B[0m\u001B[0m\n",
      "\u001B[0;32m~/PycharmProjects/AltaMLTechnical/lib/python3.8/site-packages/hpsklearn/estimator.py\u001B[0m in \u001B[0;36mscore\u001B[0;34m(self, X, y, EX_list)\u001B[0m\n\u001B[1;32m    791\u001B[0m             \u001B[0mEXfit_list\u001B[0m\u001B[0;34m=\u001B[0m\u001B[0mEX_list\u001B[0m\u001B[0;34m,\u001B[0m \u001B[0mex_pps_list\u001B[0m\u001B[0;34m=\u001B[0m\u001B[0mself\u001B[0m\u001B[0;34m.\u001B[0m\u001B[0m_best_ex_preprocs\u001B[0m\u001B[0;34m\u001B[0m\u001B[0;34m\u001B[0m\u001B[0m\n\u001B[1;32m    792\u001B[0m         )\n\u001B[0;32m--> 793\u001B[0;31m         \u001B[0;32mreturn\u001B[0m \u001B[0mself\u001B[0m\u001B[0;34m.\u001B[0m\u001B[0m_best_learner\u001B[0m\u001B[0;34m.\u001B[0m\u001B[0mscore\u001B[0m\u001B[0;34m(\u001B[0m\u001B[0mXEX\u001B[0m\u001B[0;34m,\u001B[0m \u001B[0my\u001B[0m\u001B[0;34m)\u001B[0m\u001B[0;34m\u001B[0m\u001B[0;34m\u001B[0m\u001B[0m\n\u001B[0m\u001B[1;32m    794\u001B[0m \u001B[0;34m\u001B[0m\u001B[0m\n\u001B[1;32m    795\u001B[0m     \u001B[0;32mdef\u001B[0m \u001B[0mbest_model\u001B[0m\u001B[0;34m(\u001B[0m\u001B[0mself\u001B[0m\u001B[0;34m)\u001B[0m\u001B[0;34m:\u001B[0m\u001B[0;34m\u001B[0m\u001B[0;34m\u001B[0m\u001B[0m\n",
      "\u001B[0;32m~/PycharmProjects/AltaMLTechnical/lib/python3.8/site-packages/sklearn/base.py\u001B[0m in \u001B[0;36mscore\u001B[0;34m(self, X, y, sample_weight)\u001B[0m\n\u001B[1;32m    551\u001B[0m \u001B[0;34m\u001B[0m\u001B[0m\n\u001B[1;32m    552\u001B[0m         \u001B[0;32mfrom\u001B[0m \u001B[0;34m.\u001B[0m\u001B[0mmetrics\u001B[0m \u001B[0;32mimport\u001B[0m \u001B[0mr2_score\u001B[0m\u001B[0;34m\u001B[0m\u001B[0;34m\u001B[0m\u001B[0m\n\u001B[0;32m--> 553\u001B[0;31m         \u001B[0my_pred\u001B[0m \u001B[0;34m=\u001B[0m \u001B[0mself\u001B[0m\u001B[0;34m.\u001B[0m\u001B[0mpredict\u001B[0m\u001B[0;34m(\u001B[0m\u001B[0mX\u001B[0m\u001B[0;34m)\u001B[0m\u001B[0;34m\u001B[0m\u001B[0;34m\u001B[0m\u001B[0m\n\u001B[0m\u001B[1;32m    554\u001B[0m         \u001B[0;32mreturn\u001B[0m \u001B[0mr2_score\u001B[0m\u001B[0;34m(\u001B[0m\u001B[0my\u001B[0m\u001B[0;34m,\u001B[0m \u001B[0my_pred\u001B[0m\u001B[0;34m,\u001B[0m \u001B[0msample_weight\u001B[0m\u001B[0;34m=\u001B[0m\u001B[0msample_weight\u001B[0m\u001B[0;34m)\u001B[0m\u001B[0;34m\u001B[0m\u001B[0;34m\u001B[0m\u001B[0m\n\u001B[1;32m    555\u001B[0m \u001B[0;34m\u001B[0m\u001B[0m\n",
      "\u001B[0;32m~/PycharmProjects/AltaMLTechnical/lib/python3.8/site-packages/sklearn/neighbors/_regression.py\u001B[0m in \u001B[0;36mpredict\u001B[0;34m(self, X)\u001B[0m\n\u001B[1;32m    206\u001B[0m         \u001B[0mX\u001B[0m \u001B[0;34m=\u001B[0m \u001B[0mcheck_array\u001B[0m\u001B[0;34m(\u001B[0m\u001B[0mX\u001B[0m\u001B[0;34m,\u001B[0m \u001B[0maccept_sparse\u001B[0m\u001B[0;34m=\u001B[0m\u001B[0;34m'csr'\u001B[0m\u001B[0;34m)\u001B[0m\u001B[0;34m\u001B[0m\u001B[0;34m\u001B[0m\u001B[0m\n\u001B[1;32m    207\u001B[0m \u001B[0;34m\u001B[0m\u001B[0m\n\u001B[0;32m--> 208\u001B[0;31m         \u001B[0mneigh_dist\u001B[0m\u001B[0;34m,\u001B[0m \u001B[0mneigh_ind\u001B[0m \u001B[0;34m=\u001B[0m \u001B[0mself\u001B[0m\u001B[0;34m.\u001B[0m\u001B[0mkneighbors\u001B[0m\u001B[0;34m(\u001B[0m\u001B[0mX\u001B[0m\u001B[0;34m)\u001B[0m\u001B[0;34m\u001B[0m\u001B[0;34m\u001B[0m\u001B[0m\n\u001B[0m\u001B[1;32m    209\u001B[0m \u001B[0;34m\u001B[0m\u001B[0m\n\u001B[1;32m    210\u001B[0m         \u001B[0mweights\u001B[0m \u001B[0;34m=\u001B[0m \u001B[0m_get_weights\u001B[0m\u001B[0;34m(\u001B[0m\u001B[0mneigh_dist\u001B[0m\u001B[0;34m,\u001B[0m \u001B[0mself\u001B[0m\u001B[0;34m.\u001B[0m\u001B[0mweights\u001B[0m\u001B[0;34m)\u001B[0m\u001B[0;34m\u001B[0m\u001B[0;34m\u001B[0m\u001B[0m\n",
      "\u001B[0;32m~/PycharmProjects/AltaMLTechnical/lib/python3.8/site-packages/sklearn/neighbors/_base.py\u001B[0m in \u001B[0;36mkneighbors\u001B[0;34m(self, X, n_neighbors, return_distance)\u001B[0m\n\u001B[1;32m    647\u001B[0m                [2]]...)\n\u001B[1;32m    648\u001B[0m         \"\"\"\n\u001B[0;32m--> 649\u001B[0;31m         \u001B[0mcheck_is_fitted\u001B[0m\u001B[0;34m(\u001B[0m\u001B[0mself\u001B[0m\u001B[0;34m)\u001B[0m\u001B[0;34m\u001B[0m\u001B[0;34m\u001B[0m\u001B[0m\n\u001B[0m\u001B[1;32m    650\u001B[0m \u001B[0;34m\u001B[0m\u001B[0m\n\u001B[1;32m    651\u001B[0m         \u001B[0;32mif\u001B[0m \u001B[0mn_neighbors\u001B[0m \u001B[0;32mis\u001B[0m \u001B[0;32mNone\u001B[0m\u001B[0;34m:\u001B[0m\u001B[0;34m\u001B[0m\u001B[0;34m\u001B[0m\u001B[0m\n",
      "\u001B[0;32m~/PycharmProjects/AltaMLTechnical/lib/python3.8/site-packages/sklearn/utils/validation.py\u001B[0m in \u001B[0;36minner_f\u001B[0;34m(*args, **kwargs)\u001B[0m\n\u001B[1;32m     61\u001B[0m             \u001B[0mextra_args\u001B[0m \u001B[0;34m=\u001B[0m \u001B[0mlen\u001B[0m\u001B[0;34m(\u001B[0m\u001B[0margs\u001B[0m\u001B[0;34m)\u001B[0m \u001B[0;34m-\u001B[0m \u001B[0mlen\u001B[0m\u001B[0;34m(\u001B[0m\u001B[0mall_args\u001B[0m\u001B[0;34m)\u001B[0m\u001B[0;34m\u001B[0m\u001B[0;34m\u001B[0m\u001B[0m\n\u001B[1;32m     62\u001B[0m             \u001B[0;32mif\u001B[0m \u001B[0mextra_args\u001B[0m \u001B[0;34m<=\u001B[0m \u001B[0;36m0\u001B[0m\u001B[0;34m:\u001B[0m\u001B[0;34m\u001B[0m\u001B[0;34m\u001B[0m\u001B[0m\n\u001B[0;32m---> 63\u001B[0;31m                 \u001B[0;32mreturn\u001B[0m \u001B[0mf\u001B[0m\u001B[0;34m(\u001B[0m\u001B[0;34m*\u001B[0m\u001B[0margs\u001B[0m\u001B[0;34m,\u001B[0m \u001B[0;34m**\u001B[0m\u001B[0mkwargs\u001B[0m\u001B[0;34m)\u001B[0m\u001B[0;34m\u001B[0m\u001B[0;34m\u001B[0m\u001B[0m\n\u001B[0m\u001B[1;32m     64\u001B[0m \u001B[0;34m\u001B[0m\u001B[0m\n\u001B[1;32m     65\u001B[0m             \u001B[0;31m# extra_args > 0\u001B[0m\u001B[0;34m\u001B[0m\u001B[0;34m\u001B[0m\u001B[0;34m\u001B[0m\u001B[0m\n",
      "\u001B[0;32m~/PycharmProjects/AltaMLTechnical/lib/python3.8/site-packages/sklearn/utils/validation.py\u001B[0m in \u001B[0;36mcheck_is_fitted\u001B[0;34m(estimator, attributes, msg, all_or_any)\u001B[0m\n\u001B[1;32m   1039\u001B[0m \u001B[0;34m\u001B[0m\u001B[0m\n\u001B[1;32m   1040\u001B[0m     \u001B[0;32mif\u001B[0m \u001B[0;32mnot\u001B[0m \u001B[0mattrs\u001B[0m\u001B[0;34m:\u001B[0m\u001B[0;34m\u001B[0m\u001B[0;34m\u001B[0m\u001B[0m\n\u001B[0;32m-> 1041\u001B[0;31m         \u001B[0;32mraise\u001B[0m \u001B[0mNotFittedError\u001B[0m\u001B[0;34m(\u001B[0m\u001B[0mmsg\u001B[0m \u001B[0;34m%\u001B[0m \u001B[0;34m{\u001B[0m\u001B[0;34m'name'\u001B[0m\u001B[0;34m:\u001B[0m \u001B[0mtype\u001B[0m\u001B[0;34m(\u001B[0m\u001B[0mestimator\u001B[0m\u001B[0;34m)\u001B[0m\u001B[0;34m.\u001B[0m\u001B[0m__name__\u001B[0m\u001B[0;34m}\u001B[0m\u001B[0;34m)\u001B[0m\u001B[0;34m\u001B[0m\u001B[0;34m\u001B[0m\u001B[0m\n\u001B[0m\u001B[1;32m   1042\u001B[0m \u001B[0;34m\u001B[0m\u001B[0m\n\u001B[1;32m   1043\u001B[0m \u001B[0;34m\u001B[0m\u001B[0m\n",
      "\u001B[0;31mNotFittedError\u001B[0m: This KNeighborsRegressor instance is not fitted yet. Call 'fit' with appropriate arguments before using this estimator."
     ]
    }
   ],
   "source": [
    "#Can predict with it like any other pipeline\n",
    "model.score(full_pipeline.fit_transform(X_test, y_test), y_test)\n",
    "\n"
   ],
   "metadata": {
    "collapsed": false,
    "pycharm": {
     "name": "#%%\n"
    }
   }
  },
  {
   "cell_type": "code",
   "execution_count": 193,
   "outputs": [
    {
     "data": {
      "text/plain": "{'learner': RandomForestRegressor(max_features=0.8134277620557027, n_estimators=26,\n                       n_jobs=1, random_state=0, verbose=False),\n 'preprocs': (Normalizer(),),\n 'ex_preprocs': ()}"
     },
     "execution_count": 193,
     "metadata": {},
     "output_type": "execute_result"
    }
   ],
   "source": [
    "model.best_model()"
   ],
   "metadata": {
    "collapsed": false,
    "pycharm": {
     "name": "#%%\n"
    }
   }
  },
  {
   "cell_type": "markdown",
   "source": [
    "svr\n",
    "svr_linear\n",
    "svr_rbf\n",
    "svr_poly\n",
    "svr_sigmoid\n",
    "\n",
    "knn_regression\n",
    "\n",
    "ada_boost_regression\n",
    "gradient_boosting_regression\n",
    "\n",
    "random_forest_regression\n",
    "extra_trees_regression\n",
    "\n",
    "sgd_regression\n",
    "\n",
    "xgboost_regression\n",
    "LGBM Regressor"
   ],
   "metadata": {
    "collapsed": false,
    "pycharm": {
     "name": "#%% md\n"
    }
   }
  },
  {
   "cell_type": "code",
   "execution_count": null,
   "outputs": [],
   "source": [
    "HyperoptEstimator()"
   ],
   "metadata": {
    "collapsed": false,
    "pycharm": {
     "name": "#%%\n"
    }
   }
  }
 ],
 "metadata": {
  "kernelspec": {
   "display_name": "Python 3",
   "language": "python",
   "name": "python3"
  },
  "language_info": {
   "codemirror_mode": {
    "name": "ipython",
    "version": 2
   },
   "file_extension": ".py",
   "mimetype": "text/x-python",
   "name": "python",
   "nbconvert_exporter": "python",
   "pygments_lexer": "ipython2",
   "version": "2.7.6"
  }
 },
 "nbformat": 4,
 "nbformat_minor": 0
}